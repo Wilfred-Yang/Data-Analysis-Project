{
 "cells": [
  {
   "cell_type": "code",
   "execution_count": 356,
   "id": "1708aa99",
   "metadata": {},
   "outputs": [],
   "source": [
    "import pandas as pd\n",
    "import numpy as np\n",
    "import matplotlib.pyplot as plt"
   ]
  },
  {
   "cell_type": "code",
   "execution_count": 357,
   "id": "cb0b71c1",
   "metadata": {},
   "outputs": [],
   "source": [
    "df = pd.read_csv(\"Churn_Modelling.csv\")"
   ]
  },
  {
   "cell_type": "code",
   "execution_count": 358,
   "id": "e5571e8a",
   "metadata": {},
   "outputs": [
    {
     "data": {
      "text/html": [
       "<div>\n",
       "<style scoped>\n",
       "    .dataframe tbody tr th:only-of-type {\n",
       "        vertical-align: middle;\n",
       "    }\n",
       "\n",
       "    .dataframe tbody tr th {\n",
       "        vertical-align: top;\n",
       "    }\n",
       "\n",
       "    .dataframe thead th {\n",
       "        text-align: right;\n",
       "    }\n",
       "</style>\n",
       "<table border=\"1\" class=\"dataframe\">\n",
       "  <thead>\n",
       "    <tr style=\"text-align: right;\">\n",
       "      <th></th>\n",
       "      <th>RowNumber</th>\n",
       "      <th>CustomerId</th>\n",
       "      <th>Surname</th>\n",
       "      <th>CreditScore</th>\n",
       "      <th>Geography</th>\n",
       "      <th>Gender</th>\n",
       "      <th>Age</th>\n",
       "      <th>Tenure</th>\n",
       "      <th>Balance</th>\n",
       "      <th>NumOfProducts</th>\n",
       "      <th>HasCrCard</th>\n",
       "      <th>IsActiveMember</th>\n",
       "      <th>EstimatedSalary</th>\n",
       "      <th>Exited</th>\n",
       "    </tr>\n",
       "  </thead>\n",
       "  <tbody>\n",
       "    <tr>\n",
       "      <th>0</th>\n",
       "      <td>1</td>\n",
       "      <td>15634602</td>\n",
       "      <td>Hargrave</td>\n",
       "      <td>619</td>\n",
       "      <td>France</td>\n",
       "      <td>Female</td>\n",
       "      <td>42</td>\n",
       "      <td>2</td>\n",
       "      <td>0.00</td>\n",
       "      <td>1</td>\n",
       "      <td>1</td>\n",
       "      <td>1</td>\n",
       "      <td>101348.88</td>\n",
       "      <td>1</td>\n",
       "    </tr>\n",
       "    <tr>\n",
       "      <th>1</th>\n",
       "      <td>2</td>\n",
       "      <td>15647311</td>\n",
       "      <td>Hill</td>\n",
       "      <td>608</td>\n",
       "      <td>Spain</td>\n",
       "      <td>Female</td>\n",
       "      <td>41</td>\n",
       "      <td>1</td>\n",
       "      <td>83807.86</td>\n",
       "      <td>1</td>\n",
       "      <td>0</td>\n",
       "      <td>1</td>\n",
       "      <td>112542.58</td>\n",
       "      <td>0</td>\n",
       "    </tr>\n",
       "    <tr>\n",
       "      <th>2</th>\n",
       "      <td>3</td>\n",
       "      <td>15619304</td>\n",
       "      <td>Onio</td>\n",
       "      <td>502</td>\n",
       "      <td>France</td>\n",
       "      <td>Female</td>\n",
       "      <td>42</td>\n",
       "      <td>8</td>\n",
       "      <td>159660.80</td>\n",
       "      <td>3</td>\n",
       "      <td>1</td>\n",
       "      <td>0</td>\n",
       "      <td>113931.57</td>\n",
       "      <td>1</td>\n",
       "    </tr>\n",
       "    <tr>\n",
       "      <th>3</th>\n",
       "      <td>4</td>\n",
       "      <td>15701354</td>\n",
       "      <td>Boni</td>\n",
       "      <td>699</td>\n",
       "      <td>France</td>\n",
       "      <td>Female</td>\n",
       "      <td>39</td>\n",
       "      <td>1</td>\n",
       "      <td>0.00</td>\n",
       "      <td>2</td>\n",
       "      <td>0</td>\n",
       "      <td>0</td>\n",
       "      <td>93826.63</td>\n",
       "      <td>0</td>\n",
       "    </tr>\n",
       "    <tr>\n",
       "      <th>4</th>\n",
       "      <td>5</td>\n",
       "      <td>15737888</td>\n",
       "      <td>Mitchell</td>\n",
       "      <td>850</td>\n",
       "      <td>Spain</td>\n",
       "      <td>Female</td>\n",
       "      <td>43</td>\n",
       "      <td>2</td>\n",
       "      <td>125510.82</td>\n",
       "      <td>1</td>\n",
       "      <td>1</td>\n",
       "      <td>1</td>\n",
       "      <td>79084.10</td>\n",
       "      <td>0</td>\n",
       "    </tr>\n",
       "  </tbody>\n",
       "</table>\n",
       "</div>"
      ],
      "text/plain": [
       "   RowNumber  CustomerId   Surname  CreditScore Geography  Gender  Age  \\\n",
       "0          1    15634602  Hargrave          619    France  Female   42   \n",
       "1          2    15647311      Hill          608     Spain  Female   41   \n",
       "2          3    15619304      Onio          502    France  Female   42   \n",
       "3          4    15701354      Boni          699    France  Female   39   \n",
       "4          5    15737888  Mitchell          850     Spain  Female   43   \n",
       "\n",
       "   Tenure    Balance  NumOfProducts  HasCrCard  IsActiveMember  \\\n",
       "0       2       0.00              1          1               1   \n",
       "1       1   83807.86              1          0               1   \n",
       "2       8  159660.80              3          1               0   \n",
       "3       1       0.00              2          0               0   \n",
       "4       2  125510.82              1          1               1   \n",
       "\n",
       "   EstimatedSalary  Exited  \n",
       "0        101348.88       1  \n",
       "1        112542.58       0  \n",
       "2        113931.57       1  \n",
       "3         93826.63       0  \n",
       "4         79084.10       0  "
      ]
     },
     "execution_count": 358,
     "metadata": {},
     "output_type": "execute_result"
    }
   ],
   "source": [
    "df.head()"
   ]
  },
  {
   "cell_type": "code",
   "execution_count": 359,
   "id": "0a43b0f2",
   "metadata": {},
   "outputs": [],
   "source": [
    "df_new = df.drop([\"RowNumber\", \"CustomerId\", \"Surname\"], axis=1)"
   ]
  },
  {
   "cell_type": "code",
   "execution_count": 360,
   "id": "9b54d614",
   "metadata": {},
   "outputs": [
    {
     "data": {
      "text/plain": [
       "CreditScore         460\n",
       "Geography             3\n",
       "Gender                2\n",
       "Age                  70\n",
       "Tenure               11\n",
       "Balance            6382\n",
       "NumOfProducts         4\n",
       "HasCrCard             2\n",
       "IsActiveMember        2\n",
       "EstimatedSalary    9999\n",
       "Exited                2\n",
       "dtype: int64"
      ]
     },
     "execution_count": 360,
     "metadata": {},
     "output_type": "execute_result"
    }
   ],
   "source": [
    "df_new.nunique()"
   ]
  },
  {
   "cell_type": "code",
   "execution_count": 361,
   "id": "651f881e",
   "metadata": {},
   "outputs": [
    {
     "data": {
      "text/plain": [
       "array(['France', 'Spain', 'Germany'], dtype=object)"
      ]
     },
     "execution_count": 361,
     "metadata": {},
     "output_type": "execute_result"
    }
   ],
   "source": [
    "df_new[\"Geography\"].unique()"
   ]
  },
  {
   "cell_type": "code",
   "execution_count": 362,
   "id": "c237d350",
   "metadata": {},
   "outputs": [
    {
     "data": {
      "text/plain": [
       "array(['Female', 'Male'], dtype=object)"
      ]
     },
     "execution_count": 362,
     "metadata": {},
     "output_type": "execute_result"
    }
   ],
   "source": [
    "df_new[\"Gender\"].unique()"
   ]
  },
  {
   "cell_type": "code",
   "execution_count": 363,
   "id": "d4b1a6a8",
   "metadata": {},
   "outputs": [
    {
     "data": {
      "text/html": [
       "<div>\n",
       "<style scoped>\n",
       "    .dataframe tbody tr th:only-of-type {\n",
       "        vertical-align: middle;\n",
       "    }\n",
       "\n",
       "    .dataframe tbody tr th {\n",
       "        vertical-align: top;\n",
       "    }\n",
       "\n",
       "    .dataframe thead th {\n",
       "        text-align: right;\n",
       "    }\n",
       "</style>\n",
       "<table border=\"1\" class=\"dataframe\">\n",
       "  <thead>\n",
       "    <tr style=\"text-align: right;\">\n",
       "      <th></th>\n",
       "      <th>CreditScore</th>\n",
       "      <th>Age</th>\n",
       "      <th>Tenure</th>\n",
       "      <th>Balance</th>\n",
       "      <th>NumOfProducts</th>\n",
       "      <th>HasCrCard</th>\n",
       "      <th>IsActiveMember</th>\n",
       "      <th>EstimatedSalary</th>\n",
       "      <th>Exited</th>\n",
       "      <th>France</th>\n",
       "      <th>Germany</th>\n",
       "      <th>Spain</th>\n",
       "      <th>Female</th>\n",
       "      <th>Male</th>\n",
       "    </tr>\n",
       "  </thead>\n",
       "  <tbody>\n",
       "    <tr>\n",
       "      <th>0</th>\n",
       "      <td>619</td>\n",
       "      <td>42</td>\n",
       "      <td>2</td>\n",
       "      <td>0.00</td>\n",
       "      <td>1</td>\n",
       "      <td>1</td>\n",
       "      <td>1</td>\n",
       "      <td>101348.88</td>\n",
       "      <td>1</td>\n",
       "      <td>1</td>\n",
       "      <td>0</td>\n",
       "      <td>0</td>\n",
       "      <td>1</td>\n",
       "      <td>0</td>\n",
       "    </tr>\n",
       "    <tr>\n",
       "      <th>1</th>\n",
       "      <td>608</td>\n",
       "      <td>41</td>\n",
       "      <td>1</td>\n",
       "      <td>83807.86</td>\n",
       "      <td>1</td>\n",
       "      <td>0</td>\n",
       "      <td>1</td>\n",
       "      <td>112542.58</td>\n",
       "      <td>0</td>\n",
       "      <td>0</td>\n",
       "      <td>0</td>\n",
       "      <td>1</td>\n",
       "      <td>1</td>\n",
       "      <td>0</td>\n",
       "    </tr>\n",
       "    <tr>\n",
       "      <th>2</th>\n",
       "      <td>502</td>\n",
       "      <td>42</td>\n",
       "      <td>8</td>\n",
       "      <td>159660.80</td>\n",
       "      <td>3</td>\n",
       "      <td>1</td>\n",
       "      <td>0</td>\n",
       "      <td>113931.57</td>\n",
       "      <td>1</td>\n",
       "      <td>1</td>\n",
       "      <td>0</td>\n",
       "      <td>0</td>\n",
       "      <td>1</td>\n",
       "      <td>0</td>\n",
       "    </tr>\n",
       "    <tr>\n",
       "      <th>3</th>\n",
       "      <td>699</td>\n",
       "      <td>39</td>\n",
       "      <td>1</td>\n",
       "      <td>0.00</td>\n",
       "      <td>2</td>\n",
       "      <td>0</td>\n",
       "      <td>0</td>\n",
       "      <td>93826.63</td>\n",
       "      <td>0</td>\n",
       "      <td>1</td>\n",
       "      <td>0</td>\n",
       "      <td>0</td>\n",
       "      <td>1</td>\n",
       "      <td>0</td>\n",
       "    </tr>\n",
       "    <tr>\n",
       "      <th>4</th>\n",
       "      <td>850</td>\n",
       "      <td>43</td>\n",
       "      <td>2</td>\n",
       "      <td>125510.82</td>\n",
       "      <td>1</td>\n",
       "      <td>1</td>\n",
       "      <td>1</td>\n",
       "      <td>79084.10</td>\n",
       "      <td>0</td>\n",
       "      <td>0</td>\n",
       "      <td>0</td>\n",
       "      <td>1</td>\n",
       "      <td>1</td>\n",
       "      <td>0</td>\n",
       "    </tr>\n",
       "  </tbody>\n",
       "</table>\n",
       "</div>"
      ],
      "text/plain": [
       "   CreditScore  Age  Tenure    Balance  NumOfProducts  HasCrCard  \\\n",
       "0          619   42       2       0.00              1          1   \n",
       "1          608   41       1   83807.86              1          0   \n",
       "2          502   42       8  159660.80              3          1   \n",
       "3          699   39       1       0.00              2          0   \n",
       "4          850   43       2  125510.82              1          1   \n",
       "\n",
       "   IsActiveMember  EstimatedSalary  Exited  France  Germany  Spain  Female  \\\n",
       "0               1        101348.88       1       1        0      0       1   \n",
       "1               1        112542.58       0       0        0      1       1   \n",
       "2               0        113931.57       1       1        0      0       1   \n",
       "3               0         93826.63       0       1        0      0       1   \n",
       "4               1         79084.10       0       0        0      1       1   \n",
       "\n",
       "   Male  \n",
       "0     0  \n",
       "1     0  \n",
       "2     0  \n",
       "3     0  \n",
       "4     0  "
      ]
     },
     "execution_count": 363,
     "metadata": {},
     "output_type": "execute_result"
    }
   ],
   "source": [
    "def to_categorical(df):\n",
    "    dummy_geo = pd.get_dummies(df[\"Geography\"])\n",
    "    df = pd.concat([df, dummy_geo], axis=1)\n",
    "    df = df.drop([\"Geography\"], axis=1)\n",
    "    \n",
    "    dummy_gender = pd.get_dummies(df[\"Gender\"])\n",
    "    df= pd.concat([df, dummy_gender], axis=1)\n",
    "    df = df.drop([\"Gender\"], axis=1)\n",
    "    return df\n",
    "\n",
    "df_new = to_categorical(df_new)\n",
    "df_new.head()"
   ]
  },
  {
   "cell_type": "code",
   "execution_count": 364,
   "id": "ce948471",
   "metadata": {},
   "outputs": [
    {
     "data": {
      "text/html": [
       "<div>\n",
       "<style scoped>\n",
       "    .dataframe tbody tr th:only-of-type {\n",
       "        vertical-align: middle;\n",
       "    }\n",
       "\n",
       "    .dataframe tbody tr th {\n",
       "        vertical-align: top;\n",
       "    }\n",
       "\n",
       "    .dataframe thead th {\n",
       "        text-align: right;\n",
       "    }\n",
       "</style>\n",
       "<table border=\"1\" class=\"dataframe\">\n",
       "  <thead>\n",
       "    <tr style=\"text-align: right;\">\n",
       "      <th></th>\n",
       "      <th>CreditScore</th>\n",
       "      <th>Tenure</th>\n",
       "      <th>Balance</th>\n",
       "      <th>NumOfProducts</th>\n",
       "      <th>HasCrCard</th>\n",
       "      <th>IsActiveMember</th>\n",
       "      <th>EstimatedSalary</th>\n",
       "      <th>Exited</th>\n",
       "      <th>France</th>\n",
       "      <th>Germany</th>\n",
       "      <th>Spain</th>\n",
       "      <th>Female</th>\n",
       "      <th>Male</th>\n",
       "      <th>age_label</th>\n",
       "    </tr>\n",
       "  </thead>\n",
       "  <tbody>\n",
       "    <tr>\n",
       "      <th>0</th>\n",
       "      <td>619</td>\n",
       "      <td>2</td>\n",
       "      <td>0.00</td>\n",
       "      <td>1</td>\n",
       "      <td>1</td>\n",
       "      <td>1</td>\n",
       "      <td>101348.88</td>\n",
       "      <td>1</td>\n",
       "      <td>1</td>\n",
       "      <td>0</td>\n",
       "      <td>0</td>\n",
       "      <td>1</td>\n",
       "      <td>0</td>\n",
       "      <td>3</td>\n",
       "    </tr>\n",
       "    <tr>\n",
       "      <th>1</th>\n",
       "      <td>608</td>\n",
       "      <td>1</td>\n",
       "      <td>83807.86</td>\n",
       "      <td>1</td>\n",
       "      <td>0</td>\n",
       "      <td>1</td>\n",
       "      <td>112542.58</td>\n",
       "      <td>0</td>\n",
       "      <td>0</td>\n",
       "      <td>0</td>\n",
       "      <td>1</td>\n",
       "      <td>1</td>\n",
       "      <td>0</td>\n",
       "      <td>3</td>\n",
       "    </tr>\n",
       "    <tr>\n",
       "      <th>2</th>\n",
       "      <td>502</td>\n",
       "      <td>8</td>\n",
       "      <td>159660.80</td>\n",
       "      <td>3</td>\n",
       "      <td>1</td>\n",
       "      <td>0</td>\n",
       "      <td>113931.57</td>\n",
       "      <td>1</td>\n",
       "      <td>1</td>\n",
       "      <td>0</td>\n",
       "      <td>0</td>\n",
       "      <td>1</td>\n",
       "      <td>0</td>\n",
       "      <td>3</td>\n",
       "    </tr>\n",
       "    <tr>\n",
       "      <th>3</th>\n",
       "      <td>699</td>\n",
       "      <td>1</td>\n",
       "      <td>0.00</td>\n",
       "      <td>2</td>\n",
       "      <td>0</td>\n",
       "      <td>0</td>\n",
       "      <td>93826.63</td>\n",
       "      <td>0</td>\n",
       "      <td>1</td>\n",
       "      <td>0</td>\n",
       "      <td>0</td>\n",
       "      <td>1</td>\n",
       "      <td>0</td>\n",
       "      <td>3</td>\n",
       "    </tr>\n",
       "    <tr>\n",
       "      <th>4</th>\n",
       "      <td>850</td>\n",
       "      <td>2</td>\n",
       "      <td>125510.82</td>\n",
       "      <td>1</td>\n",
       "      <td>1</td>\n",
       "      <td>1</td>\n",
       "      <td>79084.10</td>\n",
       "      <td>0</td>\n",
       "      <td>0</td>\n",
       "      <td>0</td>\n",
       "      <td>1</td>\n",
       "      <td>1</td>\n",
       "      <td>0</td>\n",
       "      <td>3</td>\n",
       "    </tr>\n",
       "  </tbody>\n",
       "</table>\n",
       "</div>"
      ],
      "text/plain": [
       "   CreditScore  Tenure    Balance  NumOfProducts  HasCrCard  IsActiveMember  \\\n",
       "0          619       2       0.00              1          1               1   \n",
       "1          608       1   83807.86              1          0               1   \n",
       "2          502       8  159660.80              3          1               0   \n",
       "3          699       1       0.00              2          0               0   \n",
       "4          850       2  125510.82              1          1               1   \n",
       "\n",
       "   EstimatedSalary  Exited  France  Germany  Spain  Female  Male age_label  \n",
       "0        101348.88       1       1        0      0       1     0         3  \n",
       "1        112542.58       0       0        0      1       1     0         3  \n",
       "2        113931.57       1       1        0      0       1     0         3  \n",
       "3         93826.63       0       1        0      0       1     0         3  \n",
       "4         79084.10       0       0        0      1       1     0         3  "
      ]
     },
     "execution_count": 364,
     "metadata": {},
     "output_type": "execute_result"
    }
   ],
   "source": [
    "def process_age(df):\n",
    "    bins = np.array([18, 26, 35, 44, 53, 62, 71, 80, 95])\n",
    "    labels = [i+1 for i in range(8)]\n",
    "    df[\"age_label\"] = pd.cut(df[\"Age\"], bins, labels)\n",
    "    df[\"age_label\"] = pd.cut(df[\"Age\"], bins=bins, labels=labels).cat.add_categories([0]).fillna(0)\n",
    "    df = df.drop([\"Age\"], axis=1)\n",
    "    \n",
    "    return df\n",
    "    \n",
    "df_new = process_age(df_new)\n",
    "df_new.head()"
   ]
  },
  {
   "cell_type": "markdown",
   "id": "65950402",
   "metadata": {},
   "source": [
    "把資料分成三份，遇到資料不平均的情形，需要調整資料比例"
   ]
  },
  {
   "cell_type": "code",
   "execution_count": 335,
   "id": "85b877a5",
   "metadata": {},
   "outputs": [
    {
     "data": {
      "text/plain": [
       "0    7963\n",
       "1    2037\n",
       "Name: Exited, dtype: int64"
      ]
     },
     "execution_count": 335,
     "metadata": {},
     "output_type": "execute_result"
    }
   ],
   "source": [
    "df_new[\"Exited\"].value_counts()"
   ]
  },
  {
   "cell_type": "code",
   "execution_count": 340,
   "id": "d5c0f21a",
   "metadata": {},
   "outputs": [],
   "source": [
    "# def split_data(df):\n",
    "#     df_1 = df[df[\"Exited\"]==1]\n",
    "#     df_0 = df[df[\"Exited\"]==0]\n",
    "    \n",
    "#     df_0_test = df_0.sample(n=400, random_state=200)\n",
    "#     df_1_test = df_1.sample(n=400, random_state=200)\n",
    "    \n",
    "#     df_0_valid = df_0_test[:200]\n",
    "#     df_0_test = df_0_test[200:]\n",
    "#     df_1_valid = df_1_test[:200]\n",
    "#     df_1_test = df_1_test[200:]\n",
    "    \n",
    "#     df_0_train = df_0.drop(df_0_valid.index)\n",
    "#     df_0_train = df_0_train.drop(df_0_test.index)\n",
    "#     df_1_train = df_1.drop(df_1_valid.index)\n",
    "#     df_1_train = df_1_train.drop(df_1_test.index)\n",
    "    \n",
    "#     df_train = pd.concat([df_0_train, df_1_train], axis=0)\n",
    "#     df_valid = pd.concat([df_0_valid, df_1_valid], axis=0)\n",
    "#     df_test = pd.concat([df_0_test, df_1_test], axis=0)\n",
    "    \n",
    "#     print(df_train.shape)\n",
    "#     print(df_valid.shape)\n",
    "#     print(df_test.shape)\n",
    "#     return df_train, df_valid, df_test"
   ]
  },
  {
   "cell_type": "code",
   "execution_count": 365,
   "id": "4497a15f",
   "metadata": {},
   "outputs": [],
   "source": [
    "def split_data(df):\n",
    "    df_1 = df[df[\"Exited\"]==1]\n",
    "    df_0 = df[df[\"Exited\"]==0]\n",
    "    \n",
    "    df_0_random = df_0.sample(n=2037, random_state=200)\n",
    "    df_0_test = df_0_random.sample(n=400, random_state=200)\n",
    "    df_1_test = df_1.sample(n=400, random_state=200)\n",
    "    \n",
    "    df_0_valid = df_0_test[:200]\n",
    "    df_0_test = df_0_test[200:]\n",
    "    df_1_valid = df_1_test[:200]\n",
    "    df_1_test = df_1_test[200:]\n",
    "    \n",
    "    df_0_train = df_0_random.drop(df_0_valid.index)\n",
    "    df_0_train = df_0_train.drop(df_0_test.index)\n",
    "    df_1_train = df_1.drop(df_1_valid.index)\n",
    "    df_1_train = df_1_train.drop(df_1_test.index)\n",
    "    \n",
    "    df_train = pd.concat([df_0_train, df_1_train], axis=0)\n",
    "    df_valid = pd.concat([df_0_valid, df_1_valid], axis=0)\n",
    "    df_test = pd.concat([df_0_test, df_1_test], axis=0)\n",
    "    \n",
    "    print(df_train.shape)\n",
    "    print(df_valid.shape)\n",
    "    print(df_test.shape)\n",
    "    return df_train, df_valid, df_test"
   ]
  },
  {
   "cell_type": "code",
   "execution_count": 366,
   "id": "28bf1d39",
   "metadata": {},
   "outputs": [
    {
     "name": "stdout",
     "output_type": "stream",
     "text": [
      "(3274, 14)\n",
      "(400, 14)\n",
      "(400, 14)\n"
     ]
    }
   ],
   "source": [
    "df_train, df_valid, df_test = split_data(df_new)"
   ]
  },
  {
   "cell_type": "code",
   "execution_count": 367,
   "id": "1a7a6909",
   "metadata": {},
   "outputs": [],
   "source": [
    "df_train[\"age_label\"] = df_train[\"age_label\"].astype('int')\n",
    "df_valid[\"age_label\"] = df_valid[\"age_label\"].astype('int')\n",
    "df_test[\"age_label\"] = df_test[\"age_label\"].astype('int')"
   ]
  },
  {
   "cell_type": "code",
   "execution_count": 368,
   "id": "d459934b",
   "metadata": {},
   "outputs": [],
   "source": [
    "# CreditScore, Tenure, Balance, EstimatedSalary\n",
    "from scipy import stats\n",
    "\n",
    "def normalize_data(df_train, df_valid, df_test):\n",
    "    df_train[\"CreditScore\"] = stats.zscore(df_train[\"CreditScore\"])\n",
    "    df_train[\"Tenure\"] = df_train[\"Tenure\"] / 10\n",
    "    df_train[\"Balance\"] = stats.zscore(df_train[\"Balance\"])\n",
    "    df_train[\"EstimatedSalary\"] = stats.zscore(df_train[\"EstimatedSalary\"])\n",
    "    df_train[\"age_label\"] = df_train[\"age_label\"]/8\n",
    "    df_train[\"NumOfProducts\"] = df_train[\"NumOfProducts\"]/4\n",
    "    \n",
    "    df_valid[\"CreditScore\"] = stats.zscore(df_valid[\"CreditScore\"])\n",
    "    df_valid[\"Tenure\"] = df_valid[\"Tenure\"] / 10\n",
    "    df_valid[\"Balance\"] = stats.zscore(df_valid[\"Balance\"])\n",
    "    df_valid[\"EstimatedSalary\"] = stats.zscore(df_valid[\"EstimatedSalary\"])\n",
    "    df_valid[\"age_label\"] = df_valid[\"age_label\"]/8\n",
    "    df_valid[\"NumOfProducts\"] = df_valid[\"NumOfProducts\"]/4\n",
    "    \n",
    "    df_test[\"CreditScore\"] = stats.zscore(df_test[\"CreditScore\"])\n",
    "    df_test[\"Tenure\"] = df_test[\"Tenure\"] / 10\n",
    "    df_test[\"Balance\"] = stats.zscore(df_test[\"Balance\"])\n",
    "    df_test[\"EstimatedSalary\"] = stats.zscore(df_test[\"EstimatedSalary\"])\n",
    "    df_test[\"age_label\"] = df_test[\"age_label\"]/8\n",
    "    df_test[\"NumOfProducts\"] = df_test[\"NumOfProducts\"]/4\n",
    "    \n",
    "    y_train = df_train[\"Exited\"]\n",
    "    x_train = df_train.drop([\"Exited\"], axis=1)\n",
    "    y_valid = df_valid[\"Exited\"]\n",
    "    x_valid = df_valid.drop([\"Exited\"], axis=1)\n",
    "    y_test = df_test[\"Exited\"]\n",
    "    x_test = df_test.drop([\"Exited\"], axis=1)\n",
    "    \n",
    "    return x_train, y_train, x_valid, y_valid, x_test, y_test\n",
    "\n",
    "x_train, y_train, x_valid, y_valid, x_test, y_test = normalize_data(df_train, df_valid, df_test)"
   ]
  },
  {
   "cell_type": "code",
   "execution_count": 392,
   "id": "82a949c4",
   "metadata": {},
   "outputs": [
    {
     "name": "stdout",
     "output_type": "stream",
     "text": [
      "(3274,)\n"
     ]
    }
   ],
   "source": [
    "print(y_train.shape)"
   ]
  },
  {
   "cell_type": "code",
   "execution_count": 344,
   "id": "069f0ef8",
   "metadata": {
    "collapsed": true
   },
   "outputs": [
    {
     "data": {
      "text/html": [
       "<div>\n",
       "<style scoped>\n",
       "    .dataframe tbody tr th:only-of-type {\n",
       "        vertical-align: middle;\n",
       "    }\n",
       "\n",
       "    .dataframe tbody tr th {\n",
       "        vertical-align: top;\n",
       "    }\n",
       "\n",
       "    .dataframe thead th {\n",
       "        text-align: right;\n",
       "    }\n",
       "</style>\n",
       "<table border=\"1\" class=\"dataframe\">\n",
       "  <thead>\n",
       "    <tr style=\"text-align: right;\">\n",
       "      <th></th>\n",
       "      <th>CreditScore</th>\n",
       "      <th>Tenure</th>\n",
       "      <th>Balance</th>\n",
       "      <th>NumOfProducts</th>\n",
       "      <th>HasCrCard</th>\n",
       "      <th>IsActiveMember</th>\n",
       "      <th>EstimatedSalary</th>\n",
       "      <th>France</th>\n",
       "      <th>Germany</th>\n",
       "      <th>Spain</th>\n",
       "      <th>Female</th>\n",
       "      <th>Male</th>\n",
       "      <th>age_label</th>\n",
       "    </tr>\n",
       "  </thead>\n",
       "  <tbody>\n",
       "    <tr>\n",
       "      <th>1</th>\n",
       "      <td>-0.438170</td>\n",
       "      <td>0.1</td>\n",
       "      <td>0.119131</td>\n",
       "      <td>0.25</td>\n",
       "      <td>0</td>\n",
       "      <td>1</td>\n",
       "      <td>0.219418</td>\n",
       "      <td>0</td>\n",
       "      <td>0</td>\n",
       "      <td>1</td>\n",
       "      <td>1</td>\n",
       "      <td>0</td>\n",
       "      <td>0.375</td>\n",
       "    </tr>\n",
       "    <tr>\n",
       "      <th>3</th>\n",
       "      <td>0.505554</td>\n",
       "      <td>0.1</td>\n",
       "      <td>-1.221945</td>\n",
       "      <td>0.50</td>\n",
       "      <td>0</td>\n",
       "      <td>0</td>\n",
       "      <td>-0.105698</td>\n",
       "      <td>1</td>\n",
       "      <td>0</td>\n",
       "      <td>0</td>\n",
       "      <td>1</td>\n",
       "      <td>0</td>\n",
       "      <td>0.375</td>\n",
       "    </tr>\n",
       "    <tr>\n",
       "      <th>4</th>\n",
       "      <td>2.071515</td>\n",
       "      <td>0.2</td>\n",
       "      <td>0.786453</td>\n",
       "      <td>0.25</td>\n",
       "      <td>1</td>\n",
       "      <td>1</td>\n",
       "      <td>-0.361791</td>\n",
       "      <td>0</td>\n",
       "      <td>0</td>\n",
       "      <td>1</td>\n",
       "      <td>1</td>\n",
       "      <td>0</td>\n",
       "      <td>0.375</td>\n",
       "    </tr>\n",
       "    <tr>\n",
       "      <th>6</th>\n",
       "      <td>1.781138</td>\n",
       "      <td>0.7</td>\n",
       "      <td>-1.221945</td>\n",
       "      <td>0.50</td>\n",
       "      <td>1</td>\n",
       "      <td>1</td>\n",
       "      <td>-1.560764</td>\n",
       "      <td>1</td>\n",
       "      <td>0</td>\n",
       "      <td>0</td>\n",
       "      <td>0</td>\n",
       "      <td>1</td>\n",
       "      <td>0.500</td>\n",
       "    </tr>\n",
       "    <tr>\n",
       "      <th>8</th>\n",
       "      <td>-1.547824</td>\n",
       "      <td>0.4</td>\n",
       "      <td>1.051127</td>\n",
       "      <td>0.50</td>\n",
       "      <td>0</td>\n",
       "      <td>1</td>\n",
       "      <td>-0.433770</td>\n",
       "      <td>1</td>\n",
       "      <td>0</td>\n",
       "      <td>0</td>\n",
       "      <td>0</td>\n",
       "      <td>1</td>\n",
       "      <td>0.375</td>\n",
       "    </tr>\n",
       "    <tr>\n",
       "      <th>9</th>\n",
       "      <td>0.349995</td>\n",
       "      <td>0.2</td>\n",
       "      <td>0.931958</td>\n",
       "      <td>0.25</td>\n",
       "      <td>1</td>\n",
       "      <td>1</td>\n",
       "      <td>-0.489614</td>\n",
       "      <td>1</td>\n",
       "      <td>0</td>\n",
       "      <td>0</td>\n",
       "      <td>0</td>\n",
       "      <td>1</td>\n",
       "      <td>0.250</td>\n",
       "    </tr>\n",
       "    <tr>\n",
       "      <th>10</th>\n",
       "      <td>-1.267818</td>\n",
       "      <td>0.6</td>\n",
       "      <td>0.410505</td>\n",
       "      <td>0.50</td>\n",
       "      <td>0</td>\n",
       "      <td>0</td>\n",
       "      <td>-0.342735</td>\n",
       "      <td>1</td>\n",
       "      <td>0</td>\n",
       "      <td>0</td>\n",
       "      <td>0</td>\n",
       "      <td>1</td>\n",
       "      <td>0.250</td>\n",
       "    </tr>\n",
       "    <tr>\n",
       "      <th>11</th>\n",
       "      <td>-1.589307</td>\n",
       "      <td>0.3</td>\n",
       "      <td>-1.221945</td>\n",
       "      <td>0.50</td>\n",
       "      <td>1</td>\n",
       "      <td>0</td>\n",
       "      <td>-0.408591</td>\n",
       "      <td>0</td>\n",
       "      <td>0</td>\n",
       "      <td>1</td>\n",
       "      <td>0</td>\n",
       "      <td>1</td>\n",
       "      <td>0.125</td>\n",
       "    </tr>\n",
       "    <tr>\n",
       "      <th>12</th>\n",
       "      <td>-1.807089</td>\n",
       "      <td>1.0</td>\n",
       "      <td>-1.221945</td>\n",
       "      <td>0.50</td>\n",
       "      <td>1</td>\n",
       "      <td>0</td>\n",
       "      <td>-1.279384</td>\n",
       "      <td>1</td>\n",
       "      <td>0</td>\n",
       "      <td>0</td>\n",
       "      <td>1</td>\n",
       "      <td>0</td>\n",
       "      <td>0.250</td>\n",
       "    </tr>\n",
       "    <tr>\n",
       "      <th>13</th>\n",
       "      <td>-1.050035</td>\n",
       "      <td>0.5</td>\n",
       "      <td>-1.221945</td>\n",
       "      <td>0.50</td>\n",
       "      <td>0</td>\n",
       "      <td>0</td>\n",
       "      <td>1.579835</td>\n",
       "      <td>1</td>\n",
       "      <td>0</td>\n",
       "      <td>0</td>\n",
       "      <td>1</td>\n",
       "      <td>0</td>\n",
       "      <td>0.125</td>\n",
       "    </tr>\n",
       "    <tr>\n",
       "      <th>14</th>\n",
       "      <td>-0.158164</td>\n",
       "      <td>0.7</td>\n",
       "      <td>-1.221945</td>\n",
       "      <td>0.50</td>\n",
       "      <td>1</td>\n",
       "      <td>1</td>\n",
       "      <td>-0.589916</td>\n",
       "      <td>0</td>\n",
       "      <td>0</td>\n",
       "      <td>1</td>\n",
       "      <td>1</td>\n",
       "      <td>0</td>\n",
       "      <td>0.250</td>\n",
       "    </tr>\n",
       "    <tr>\n",
       "      <th>15</th>\n",
       "      <td>-0.355205</td>\n",
       "      <td>0.3</td>\n",
       "      <td>1.068382</td>\n",
       "      <td>0.50</td>\n",
       "      <td>0</td>\n",
       "      <td>1</td>\n",
       "      <td>-0.618133</td>\n",
       "      <td>0</td>\n",
       "      <td>1</td>\n",
       "      <td>0</td>\n",
       "      <td>0</td>\n",
       "      <td>1</td>\n",
       "      <td>0.500</td>\n",
       "    </tr>\n",
       "    <tr>\n",
       "      <th>17</th>\n",
       "      <td>-1.050035</td>\n",
       "      <td>0.9</td>\n",
       "      <td>-1.221945</td>\n",
       "      <td>0.50</td>\n",
       "      <td>1</td>\n",
       "      <td>1</td>\n",
       "      <td>-1.485311</td>\n",
       "      <td>0</td>\n",
       "      <td>0</td>\n",
       "      <td>1</td>\n",
       "      <td>1</td>\n",
       "      <td>0</td>\n",
       "      <td>0.125</td>\n",
       "    </tr>\n",
       "    <tr>\n",
       "      <th>18</th>\n",
       "      <td>-0.655953</td>\n",
       "      <td>0.6</td>\n",
       "      <td>-1.221945</td>\n",
       "      <td>0.25</td>\n",
       "      <td>0</td>\n",
       "      <td>0</td>\n",
       "      <td>1.020957</td>\n",
       "      <td>0</td>\n",
       "      <td>0</td>\n",
       "      <td>1</td>\n",
       "      <td>0</td>\n",
       "      <td>1</td>\n",
       "      <td>0.500</td>\n",
       "    </tr>\n",
       "    <tr>\n",
       "      <th>19</th>\n",
       "      <td>0.785560</td>\n",
       "      <td>0.6</td>\n",
       "      <td>-1.221945</td>\n",
       "      <td>0.50</td>\n",
       "      <td>1</td>\n",
       "      <td>1</td>\n",
       "      <td>-0.784951</td>\n",
       "      <td>1</td>\n",
       "      <td>0</td>\n",
       "      <td>0</td>\n",
       "      <td>1</td>\n",
       "      <td>0</td>\n",
       "      <td>0.125</td>\n",
       "    </tr>\n",
       "    <tr>\n",
       "      <th>20</th>\n",
       "      <td>0.847784</td>\n",
       "      <td>0.8</td>\n",
       "      <td>-1.221945</td>\n",
       "      <td>0.50</td>\n",
       "      <td>1</td>\n",
       "      <td>1</td>\n",
       "      <td>1.232907</td>\n",
       "      <td>1</td>\n",
       "      <td>0</td>\n",
       "      <td>0</td>\n",
       "      <td>0</td>\n",
       "      <td>1</td>\n",
       "      <td>0.375</td>\n",
       "    </tr>\n",
       "    <tr>\n",
       "      <th>21</th>\n",
       "      <td>-0.147793</td>\n",
       "      <td>0.8</td>\n",
       "      <td>-1.221945</td>\n",
       "      <td>0.50</td>\n",
       "      <td>1</td>\n",
       "      <td>0</td>\n",
       "      <td>0.671289</td>\n",
       "      <td>0</td>\n",
       "      <td>0</td>\n",
       "      <td>1</td>\n",
       "      <td>1</td>\n",
       "      <td>0</td>\n",
       "      <td>0.250</td>\n",
       "    </tr>\n",
       "    <tr>\n",
       "      <th>23</th>\n",
       "      <td>0.194436</td>\n",
       "      <td>0.3</td>\n",
       "      <td>-1.221945</td>\n",
       "      <td>0.50</td>\n",
       "      <td>0</td>\n",
       "      <td>1</td>\n",
       "      <td>-1.588124</td>\n",
       "      <td>1</td>\n",
       "      <td>0</td>\n",
       "      <td>0</td>\n",
       "      <td>0</td>\n",
       "      <td>1</td>\n",
       "      <td>0.500</td>\n",
       "    </tr>\n",
       "    <tr>\n",
       "      <th>24</th>\n",
       "      <td>2.030032</td>\n",
       "      <td>0.5</td>\n",
       "      <td>-1.221945</td>\n",
       "      <td>0.25</td>\n",
       "      <td>1</td>\n",
       "      <td>1</td>\n",
       "      <td>1.523525</td>\n",
       "      <td>1</td>\n",
       "      <td>0</td>\n",
       "      <td>0</td>\n",
       "      <td>1</td>\n",
       "      <td>0</td>\n",
       "      <td>0.375</td>\n",
       "    </tr>\n",
       "    <tr>\n",
       "      <th>25</th>\n",
       "      <td>-0.759659</td>\n",
       "      <td>0.3</td>\n",
       "      <td>-1.221945</td>\n",
       "      <td>0.50</td>\n",
       "      <td>0</td>\n",
       "      <td>1</td>\n",
       "      <td>0.427275</td>\n",
       "      <td>1</td>\n",
       "      <td>0</td>\n",
       "      <td>0</td>\n",
       "      <td>0</td>\n",
       "      <td>1</td>\n",
       "      <td>0.125</td>\n",
       "    </tr>\n",
       "  </tbody>\n",
       "</table>\n",
       "</div>"
      ],
      "text/plain": [
       "    CreditScore  Tenure   Balance  NumOfProducts  HasCrCard  IsActiveMember  \\\n",
       "1     -0.438170     0.1  0.119131           0.25          0               1   \n",
       "3      0.505554     0.1 -1.221945           0.50          0               0   \n",
       "4      2.071515     0.2  0.786453           0.25          1               1   \n",
       "6      1.781138     0.7 -1.221945           0.50          1               1   \n",
       "8     -1.547824     0.4  1.051127           0.50          0               1   \n",
       "9      0.349995     0.2  0.931958           0.25          1               1   \n",
       "10    -1.267818     0.6  0.410505           0.50          0               0   \n",
       "11    -1.589307     0.3 -1.221945           0.50          1               0   \n",
       "12    -1.807089     1.0 -1.221945           0.50          1               0   \n",
       "13    -1.050035     0.5 -1.221945           0.50          0               0   \n",
       "14    -0.158164     0.7 -1.221945           0.50          1               1   \n",
       "15    -0.355205     0.3  1.068382           0.50          0               1   \n",
       "17    -1.050035     0.9 -1.221945           0.50          1               1   \n",
       "18    -0.655953     0.6 -1.221945           0.25          0               0   \n",
       "19     0.785560     0.6 -1.221945           0.50          1               1   \n",
       "20     0.847784     0.8 -1.221945           0.50          1               1   \n",
       "21    -0.147793     0.8 -1.221945           0.50          1               0   \n",
       "23     0.194436     0.3 -1.221945           0.50          0               1   \n",
       "24     2.030032     0.5 -1.221945           0.25          1               1   \n",
       "25    -0.759659     0.3 -1.221945           0.50          0               1   \n",
       "\n",
       "    EstimatedSalary  France  Germany  Spain  Female  Male  age_label  \n",
       "1          0.219418       0        0      1       1     0      0.375  \n",
       "3         -0.105698       1        0      0       1     0      0.375  \n",
       "4         -0.361791       0        0      1       1     0      0.375  \n",
       "6         -1.560764       1        0      0       0     1      0.500  \n",
       "8         -0.433770       1        0      0       0     1      0.375  \n",
       "9         -0.489614       1        0      0       0     1      0.250  \n",
       "10        -0.342735       1        0      0       0     1      0.250  \n",
       "11        -0.408591       0        0      1       0     1      0.125  \n",
       "12        -1.279384       1        0      0       1     0      0.250  \n",
       "13         1.579835       1        0      0       1     0      0.125  \n",
       "14        -0.589916       0        0      1       1     0      0.250  \n",
       "15        -0.618133       0        1      0       0     1      0.500  \n",
       "17        -1.485311       0        0      1       1     0      0.125  \n",
       "18         1.020957       0        0      1       0     1      0.500  \n",
       "19        -0.784951       1        0      0       1     0      0.125  \n",
       "20         1.232907       1        0      0       0     1      0.375  \n",
       "21         0.671289       0        0      1       1     0      0.250  \n",
       "23        -1.588124       1        0      0       0     1      0.500  \n",
       "24         1.523525       1        0      0       1     0      0.375  \n",
       "25         0.427275       1        0      0       0     1      0.125  "
      ]
     },
     "execution_count": 344,
     "metadata": {},
     "output_type": "execute_result"
    }
   ],
   "source": [
    "x_train.head(20)"
   ]
  },
  {
   "cell_type": "markdown",
   "id": "9d77a713",
   "metadata": {},
   "source": [
    "模型訓練"
   ]
  },
  {
   "cell_type": "code",
   "execution_count": 369,
   "id": "cc6b1d75",
   "metadata": {},
   "outputs": [],
   "source": [
    "from sklearn.tree import DecisionTreeClassifier\n",
    "from sklearn.ensemble import RandomForestClassifier\n",
    "from sklearn.ensemble import GradientBoostingClassifier\n",
    "from sklearn.neighbors import KNeighborsClassifier\n",
    "\n",
    "from sklearn.metrics import accuracy_score\n",
    "from sklearn.metrics import classification_report\n",
    "from sklearn.metrics import plot_confusion_matrix\n",
    "from sklearn.metrics import roc_auc_score\n",
    "from sklearn.metrics import roc_curve\n"
   ]
  },
  {
   "cell_type": "markdown",
   "id": "25515218",
   "metadata": {},
   "source": [
    "Decision Tree"
   ]
  },
  {
   "cell_type": "code",
   "execution_count": 370,
   "id": "71220e6e",
   "metadata": {},
   "outputs": [
    {
     "name": "stdout",
     "output_type": "stream",
     "text": [
      "Train正確率:  82.86499694563226 %\n",
      "Valid正確率:  70.25 %\n",
      "Test正確率:  75.5 %\n"
     ]
    }
   ],
   "source": [
    "clfd = DecisionTreeClassifier(max_depth=10, min_samples_leaf=10)\n",
    "clfd = clfd.fit(x_train, y_train)\n",
    "\n",
    "predict_d_train = clfd.predict(x_train)\n",
    "print(\"Train正確率: \", accuracy_score(y_train, predict_d_train) * 100, \"%\")\n",
    "\n",
    "predict_d_valid = clfd.predict(x_valid)\n",
    "print(\"Valid正確率: \", accuracy_score(y_valid, predict_d_valid) * 100, \"%\")\n",
    "\n",
    "predict_d_test = clfd.predict(x_test)\n",
    "print(\"Test正確率: \", accuracy_score(y_test, predict_d_test) * 100, \"%\")"
   ]
  },
  {
   "cell_type": "code",
   "execution_count": 371,
   "id": "e68bb66a",
   "metadata": {},
   "outputs": [
    {
     "name": "stdout",
     "output_type": "stream",
     "text": [
      "              precision    recall  f1-score   support\n",
      "\n",
      "           0       0.72      0.84      0.77       200\n",
      "           1       0.81      0.67      0.73       200\n",
      "\n",
      "    accuracy                           0.76       400\n",
      "   macro avg       0.76      0.76      0.75       400\n",
      "weighted avg       0.76      0.76      0.75       400\n",
      "\n"
     ]
    },
    {
     "name": "stderr",
     "output_type": "stream",
     "text": [
      "C:\\Users\\Wilfred\\Anaconda3\\envs\\d2l\\lib\\site-packages\\sklearn\\utils\\deprecation.py:87: FutureWarning: Function plot_confusion_matrix is deprecated; Function `plot_confusion_matrix` is deprecated in 1.0 and will be removed in 1.2. Use one of the class methods: ConfusionMatrixDisplay.from_predictions or ConfusionMatrixDisplay.from_estimator.\n",
      "  warnings.warn(msg, category=FutureWarning)\n"
     ]
    },
    {
     "data": {
      "text/plain": [
       "<sklearn.metrics._plot.confusion_matrix.ConfusionMatrixDisplay at 0x1d6a98d0640>"
      ]
     },
     "execution_count": 371,
     "metadata": {},
     "output_type": "execute_result"
    },
    {
     "data": {
      "image/png": "[encoded data removed]",
      "text/plain": [
       "<Figure size 432x288 with 2 Axes>"
      ]
     },
     "metadata": {
      "needs_background": "light"
     },
     "output_type": "display_data"
    }
   ],
   "source": [
    "print(classification_report(y_test, predict_d_test))\n",
    "plot_confusion_matrix(clfd, x_test, y_test)"
   ]
  },
  {
   "cell_type": "code",
   "execution_count": 372,
   "id": "bed3c5bb",
   "metadata": {},
   "outputs": [
    {
     "data": {
      "text/plain": [
       "<AxesSubplot:>"
      ]
     },
     "execution_count": 372,
     "metadata": {},
     "output_type": "execute_result"
    },
    {
     "data": {
      "image/png": "[encoded data removed]",
      "text/plain": [
       "<Figure size 432x288 with 1 Axes>"
      ]
     },
     "metadata": {
      "needs_background": "light"
     },
     "output_type": "display_data"
    }
   ],
   "source": [
    "feat_importances = pd.Series(clfd.feature_importances_, index=x_train.columns)\n",
    "feat_importances.nlargest(20).plot(kind='barh')"
   ]
  },
  {
   "cell_type": "code",
   "execution_count": null,
   "id": "9a4c3147",
   "metadata": {},
   "outputs": [],
   "source": []
  },
  {
   "cell_type": "markdown",
   "id": "c0bf4661",
   "metadata": {},
   "source": [
    "Random Forest"
   ]
  },
  {
   "cell_type": "code",
   "execution_count": 373,
   "id": "24472845",
   "metadata": {},
   "outputs": [
    {
     "name": "stdout",
     "output_type": "stream",
     "text": [
      "Train正確率:  91.53940134392181 %\n",
      "Valid正確率:  76.0 %\n",
      "Test正確率:  77.75 %\n"
     ]
    }
   ],
   "source": [
    "clfr = RandomForestClassifier(n_estimators=100, max_depth=10)\n",
    "\n",
    "clfr = clfr.fit(x_train, y_train)\n",
    "\n",
    "predict_r_train = clfr.predict(x_train)\n",
    "print(\"Train正確率: \", accuracy_score(y_train, predict_r_train) * 100, \"%\")\n",
    "\n",
    "predict_r_valid = clfr.predict(x_valid)\n",
    "print(\"Valid正確率: \", accuracy_score(y_valid, predict_r_valid) * 100, \"%\")\n",
    "\n",
    "predict_r_test = clfr.predict(x_test)\n",
    "print(\"Test正確率: \", accuracy_score(y_test, predict_r_test) * 100, \"%\")"
   ]
  },
  {
   "cell_type": "code",
   "execution_count": 374,
   "id": "7b5d5a97",
   "metadata": {},
   "outputs": [
    {
     "name": "stdout",
     "output_type": "stream",
     "text": [
      "              precision    recall  f1-score   support\n",
      "\n",
      "           0       0.74      0.85      0.79       200\n",
      "           1       0.82      0.70      0.76       200\n",
      "\n",
      "    accuracy                           0.78       400\n",
      "   macro avg       0.78      0.78      0.78       400\n",
      "weighted avg       0.78      0.78      0.78       400\n",
      "\n"
     ]
    },
    {
     "name": "stderr",
     "output_type": "stream",
     "text": [
      "C:\\Users\\Wilfred\\Anaconda3\\envs\\d2l\\lib\\site-packages\\sklearn\\utils\\deprecation.py:87: FutureWarning: Function plot_confusion_matrix is deprecated; Function `plot_confusion_matrix` is deprecated in 1.0 and will be removed in 1.2. Use one of the class methods: ConfusionMatrixDisplay.from_predictions or ConfusionMatrixDisplay.from_estimator.\n",
      "  warnings.warn(msg, category=FutureWarning)\n"
     ]
    },
    {
     "data": {
      "text/plain": [
       "<sklearn.metrics._plot.confusion_matrix.ConfusionMatrixDisplay at 0x1d6a947cd90>"
      ]
     },
     "execution_count": 374,
     "metadata": {},
     "output_type": "execute_result"
    },
    {
     "data": {
      "image/png": "[encoded data removed]",
      "text/plain": [
       "<Figure size 432x288 with 2 Axes>"
      ]
     },
     "metadata": {
      "needs_background": "light"
     },
     "output_type": "display_data"
    }
   ],
   "source": [
    "print(classification_report(y_test, predict_r_test))\n",
    "plot_confusion_matrix(clfr, x_test, y_test)"
   ]
  },
  {
   "cell_type": "code",
   "execution_count": 375,
   "id": "130fbd65",
   "metadata": {},
   "outputs": [
    {
     "data": {
      "text/plain": [
       "<AxesSubplot:>"
      ]
     },
     "execution_count": 375,
     "metadata": {},
     "output_type": "execute_result"
    },
    {
     "data": {
      "image/png": "[encoded data removed]",
      "text/plain": [
       "<Figure size 432x288 with 1 Axes>"
      ]
     },
     "metadata": {
      "needs_background": "light"
     },
     "output_type": "display_data"
    }
   ],
   "source": [
    "feat_importances = pd.Series(clfr.feature_importances_, index=x_train.columns)\n",
    "feat_importances.nlargest(20).plot(kind='barh')"
   ]
  },
  {
   "cell_type": "markdown",
   "id": "0ad9e0e6",
   "metadata": {},
   "source": [
    "Gradient Boosting"
   ]
  },
  {
   "cell_type": "code",
   "execution_count": 376,
   "id": "6ee612ff",
   "metadata": {},
   "outputs": [
    {
     "name": "stdout",
     "output_type": "stream",
     "text": [
      "Train正確率:  88.72938301771534 %\n",
      "Valid正確率:  75.25 %\n",
      "Test正確率:  77.5 %\n",
      "              precision    recall  f1-score   support\n",
      "\n",
      "           0       0.76      0.80      0.78       200\n",
      "           1       0.79      0.75      0.77       200\n",
      "\n",
      "    accuracy                           0.78       400\n",
      "   macro avg       0.78      0.78      0.77       400\n",
      "weighted avg       0.78      0.78      0.77       400\n",
      "\n"
     ]
    },
    {
     "name": "stderr",
     "output_type": "stream",
     "text": [
      "C:\\Users\\Wilfred\\Anaconda3\\envs\\d2l\\lib\\site-packages\\sklearn\\utils\\deprecation.py:87: FutureWarning: Function plot_confusion_matrix is deprecated; Function `plot_confusion_matrix` is deprecated in 1.0 and will be removed in 1.2. Use one of the class methods: ConfusionMatrixDisplay.from_predictions or ConfusionMatrixDisplay.from_estimator.\n",
      "  warnings.warn(msg, category=FutureWarning)\n"
     ]
    },
    {
     "data": {
      "text/plain": [
       "<sklearn.metrics._plot.confusion_matrix.ConfusionMatrixDisplay at 0x1d6a8e8ab20>"
      ]
     },
     "execution_count": 376,
     "metadata": {},
     "output_type": "execute_result"
    },
    {
     "data": {
      "image/png": "[encoded data removed]",
      "text/plain": [
       "<Figure size 432x288 with 2 Axes>"
      ]
     },
     "metadata": {
      "needs_background": "light"
     },
     "output_type": "display_data"
    }
   ],
   "source": [
    "clfg = GradientBoostingClassifier(n_estimators=100, max_depth=5)\n",
    "clfg.fit(x_train, y_train)\n",
    "\n",
    "predict_g_train = clfg.predict(x_train)\n",
    "print(\"Train正確率: \", accuracy_score(y_train, predict_g_train) * 100, \"%\")\n",
    "predict_g_valid = clfg.predict(x_valid)\n",
    "print(\"Valid正確率: \", accuracy_score(y_valid, predict_g_valid) * 100, \"%\")\n",
    "predict_g_test = clfg.predict(x_test)\n",
    "print(\"Test正確率: \", accuracy_score(y_test, predict_g_test) * 100, \"%\")\n",
    "\n",
    "print(classification_report(y_test, predict_g_test))\n",
    "plot_confusion_matrix(clfg, x_test, y_test)"
   ]
  },
  {
   "cell_type": "code",
   "execution_count": 377,
   "id": "83214f74",
   "metadata": {},
   "outputs": [
    {
     "data": {
      "text/plain": [
       "<AxesSubplot:>"
      ]
     },
     "execution_count": 377,
     "metadata": {},
     "output_type": "execute_result"
    },
    {
     "data": {
      "image/png": "[encoded data removed]",
      "text/plain": [
       "<Figure size 432x288 with 1 Axes>"
      ]
     },
     "metadata": {
      "needs_background": "light"
     },
     "output_type": "display_data"
    }
   ],
   "source": [
    "feat_importances = pd.Series(clfg.feature_importances_, index=x_train.columns)\n",
    "feat_importances.nlargest(20).plot(kind='barh')"
   ]
  },
  {
   "cell_type": "code",
   "execution_count": null,
   "id": "fec9abdb",
   "metadata": {},
   "outputs": [],
   "source": []
  },
  {
   "cell_type": "markdown",
   "id": "a719955d",
   "metadata": {},
   "source": [
    "ROC Curve"
   ]
  },
  {
   "cell_type": "code",
   "execution_count": 378,
   "id": "8092d30c",
   "metadata": {},
   "outputs": [],
   "source": [
    "p1 = clfd.predict_proba(x_test)\n",
    "p2 = clfr.predict_proba(x_test)\n",
    "p3 = clfg.predict_proba(x_test)"
   ]
  },
  {
   "cell_type": "code",
   "execution_count": 379,
   "id": "ce9aee78",
   "metadata": {},
   "outputs": [],
   "source": [
    "auc_score_1 = roc_auc_score(y_test, p1[:, 1])\n",
    "auc_score_2 = roc_auc_score(y_test, p2[:, 1])\n",
    "auc_score_3 = roc_auc_score(y_test, p3[:, 1])"
   ]
  },
  {
   "cell_type": "code",
   "execution_count": 380,
   "id": "931c1d6b",
   "metadata": {},
   "outputs": [
    {
     "name": "stdout",
     "output_type": "stream",
     "text": [
      "0.8143500000000001 0.8581749999999999 0.8657499999999999\n"
     ]
    }
   ],
   "source": [
    "print(auc_score_1, auc_score_2, auc_score_3)"
   ]
  },
  {
   "cell_type": "code",
   "execution_count": 381,
   "id": "cb55ee30",
   "metadata": {},
   "outputs": [],
   "source": [
    "fpr_1, tpr_1, _ = roc_curve(y_test, p1[:, 1], pos_label=1)\n",
    "fpr_2, tpr_2, _ = roc_curve(y_test, p2[:, 1], pos_label=1)\n",
    "fpr_3, tpr_3, _ = roc_curve(y_test, p3[:, 1], pos_label=1)"
   ]
  },
  {
   "cell_type": "code",
   "execution_count": 382,
   "id": "97fc5752",
   "metadata": {},
   "outputs": [
    {
     "name": "stdout",
     "output_type": "stream",
     "text": [
      "[0. 1.] [0. 1.]\n"
     ]
    }
   ],
   "source": [
    "random_probs = [0 for i in range(len(y_test))]\n",
    "p_fpr, p_tpr, _ = roc_curve(y_test, random_probs, pos_label=1)\n",
    "print(p_fpr, p_tpr)"
   ]
  },
  {
   "cell_type": "code",
   "execution_count": 383,
   "id": "50fa149e",
   "metadata": {},
   "outputs": [
    {
     "data": {
      "text/plain": [
       "<matplotlib.legend.Legend at 0x1d6abcde250>"
      ]
     },
     "execution_count": 383,
     "metadata": {},
     "output_type": "execute_result"
    },
    {
     "data": {
      "image/png": "[encoded data removed]",
      "text/plain": [
       "<Figure size 432x288 with 1 Axes>"
      ]
     },
     "metadata": {
      "needs_background": "light"
     },
     "output_type": "display_data"
    }
   ],
   "source": [
    "plt.plot(fpr_1, tpr_1, linestyle='--', label='Decision Tree')\n",
    "plt.plot(fpr_2, tpr_2, linestyle='--', label='Random Forest')\n",
    "plt.plot(fpr_3, tpr_3, linestyle='--', label='Gradient Boost')\n",
    "plt.plot(p_fpr, p_tpr, linestyle='--', label='Base')\n",
    "plt.xlabel('False Positive Rate')\n",
    "plt.ylabel('True Positive rate')\n",
    "plt.title('ROC Curve')\n",
    "plt.legend()"
   ]
  }
 ],
 "metadata": {
  "kernelspec": {
   "display_name": "Python 3 (ipykernel)",
   "language": "python",
   "name": "python3"
  },
  "language_info": {
   "codemirror_mode": {
    "name": "ipython",
    "version": 3
   },
   "file_extension": ".py",
   "mimetype": "text/x-python",
   "name": "python",
   "nbconvert_exporter": "python",
   "pygments_lexer": "ipython3",
   "version": "3.8.8"
  }
 },
 "nbformat": 4,
 "nbformat_minor": 5
}
