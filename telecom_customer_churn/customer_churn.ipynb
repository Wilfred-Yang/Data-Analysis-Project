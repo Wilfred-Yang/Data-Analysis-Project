{
 "cells": [
  {
   "cell_type": "code",
   "execution_count": 304,
   "id": "cb46f724",
   "metadata": {},
   "outputs": [],
   "source": [
    "import pandas as pd"
   ]
  },
  {
   "cell_type": "code",
   "execution_count": 305,
   "id": "4284082d",
   "metadata": {},
   "outputs": [],
   "source": [
    "df = pd.read_csv(\"telecom_churn.csv\")"
   ]
  },
  {
   "cell_type": "code",
   "execution_count": 306,
   "id": "44ffda28",
   "metadata": {},
   "outputs": [
    {
     "data": {
      "text/html": [
       "<div>\n",
       "<style scoped>\n",
       "    .dataframe tbody tr th:only-of-type {\n",
       "        vertical-align: middle;\n",
       "    }\n",
       "\n",
       "    .dataframe tbody tr th {\n",
       "        vertical-align: top;\n",
       "    }\n",
       "\n",
       "    .dataframe thead th {\n",
       "        text-align: right;\n",
       "    }\n",
       "</style>\n",
       "<table border=\"1\" class=\"dataframe\">\n",
       "  <thead>\n",
       "    <tr style=\"text-align: right;\">\n",
       "      <th></th>\n",
       "      <th>Churn</th>\n",
       "      <th>AccountWeeks</th>\n",
       "      <th>ContractRenewal</th>\n",
       "      <th>DataPlan</th>\n",
       "      <th>DataUsage</th>\n",
       "      <th>CustServCalls</th>\n",
       "      <th>DayMins</th>\n",
       "      <th>DayCalls</th>\n",
       "      <th>MonthlyCharge</th>\n",
       "      <th>OverageFee</th>\n",
       "      <th>RoamMins</th>\n",
       "    </tr>\n",
       "  </thead>\n",
       "  <tbody>\n",
       "    <tr>\n",
       "      <th>0</th>\n",
       "      <td>0</td>\n",
       "      <td>128</td>\n",
       "      <td>1</td>\n",
       "      <td>1</td>\n",
       "      <td>2.7</td>\n",
       "      <td>1</td>\n",
       "      <td>265.1</td>\n",
       "      <td>110</td>\n",
       "      <td>89.0</td>\n",
       "      <td>9.87</td>\n",
       "      <td>10.0</td>\n",
       "    </tr>\n",
       "    <tr>\n",
       "      <th>1</th>\n",
       "      <td>0</td>\n",
       "      <td>107</td>\n",
       "      <td>1</td>\n",
       "      <td>1</td>\n",
       "      <td>3.7</td>\n",
       "      <td>1</td>\n",
       "      <td>161.6</td>\n",
       "      <td>123</td>\n",
       "      <td>82.0</td>\n",
       "      <td>9.78</td>\n",
       "      <td>13.7</td>\n",
       "    </tr>\n",
       "    <tr>\n",
       "      <th>2</th>\n",
       "      <td>0</td>\n",
       "      <td>137</td>\n",
       "      <td>1</td>\n",
       "      <td>0</td>\n",
       "      <td>0.0</td>\n",
       "      <td>0</td>\n",
       "      <td>243.4</td>\n",
       "      <td>114</td>\n",
       "      <td>52.0</td>\n",
       "      <td>6.06</td>\n",
       "      <td>12.2</td>\n",
       "    </tr>\n",
       "    <tr>\n",
       "      <th>3</th>\n",
       "      <td>0</td>\n",
       "      <td>84</td>\n",
       "      <td>0</td>\n",
       "      <td>0</td>\n",
       "      <td>0.0</td>\n",
       "      <td>2</td>\n",
       "      <td>299.4</td>\n",
       "      <td>71</td>\n",
       "      <td>57.0</td>\n",
       "      <td>3.10</td>\n",
       "      <td>6.6</td>\n",
       "    </tr>\n",
       "    <tr>\n",
       "      <th>4</th>\n",
       "      <td>0</td>\n",
       "      <td>75</td>\n",
       "      <td>0</td>\n",
       "      <td>0</td>\n",
       "      <td>0.0</td>\n",
       "      <td>3</td>\n",
       "      <td>166.7</td>\n",
       "      <td>113</td>\n",
       "      <td>41.0</td>\n",
       "      <td>7.42</td>\n",
       "      <td>10.1</td>\n",
       "    </tr>\n",
       "  </tbody>\n",
       "</table>\n",
       "</div>"
      ],
      "text/plain": [
       "   Churn  AccountWeeks  ContractRenewal  DataPlan  DataUsage  CustServCalls  \\\n",
       "0      0           128                1         1        2.7              1   \n",
       "1      0           107                1         1        3.7              1   \n",
       "2      0           137                1         0        0.0              0   \n",
       "3      0            84                0         0        0.0              2   \n",
       "4      0            75                0         0        0.0              3   \n",
       "\n",
       "   DayMins  DayCalls  MonthlyCharge  OverageFee  RoamMins  \n",
       "0    265.1       110           89.0        9.87      10.0  \n",
       "1    161.6       123           82.0        9.78      13.7  \n",
       "2    243.4       114           52.0        6.06      12.2  \n",
       "3    299.4        71           57.0        3.10       6.6  \n",
       "4    166.7       113           41.0        7.42      10.1  "
      ]
     },
     "execution_count": 306,
     "metadata": {},
     "output_type": "execute_result"
    }
   ],
   "source": [
    "df.head()"
   ]
  },
  {
   "cell_type": "code",
   "execution_count": 307,
   "id": "79cc5835",
   "metadata": {},
   "outputs": [
    {
     "data": {
      "text/plain": [
       "(3333, 11)"
      ]
     },
     "execution_count": 307,
     "metadata": {},
     "output_type": "execute_result"
    }
   ],
   "source": [
    "df.shape"
   ]
  },
  {
   "cell_type": "code",
   "execution_count": 308,
   "id": "32f04006",
   "metadata": {
    "collapsed": true
   },
   "outputs": [
    {
     "name": "stdout",
     "output_type": "stream",
     "text": [
      "<class 'pandas.core.frame.DataFrame'>\n",
      "RangeIndex: 3333 entries, 0 to 3332\n",
      "Data columns (total 11 columns):\n",
      " #   Column           Non-Null Count  Dtype  \n",
      "---  ------           --------------  -----  \n",
      " 0   Churn            3333 non-null   int64  \n",
      " 1   AccountWeeks     3333 non-null   int64  \n",
      " 2   ContractRenewal  3333 non-null   int64  \n",
      " 3   DataPlan         3333 non-null   int64  \n",
      " 4   DataUsage        3333 non-null   float64\n",
      " 5   CustServCalls    3333 non-null   int64  \n",
      " 6   DayMins          3333 non-null   float64\n",
      " 7   DayCalls         3333 non-null   int64  \n",
      " 8   MonthlyCharge    3333 non-null   float64\n",
      " 9   OverageFee       3333 non-null   float64\n",
      " 10  RoamMins         3333 non-null   float64\n",
      "dtypes: float64(5), int64(6)\n",
      "memory usage: 286.6 KB\n"
     ]
    }
   ],
   "source": [
    "df.info()"
   ]
  },
  {
   "cell_type": "code",
   "execution_count": 309,
   "id": "59a11404",
   "metadata": {
    "collapsed": true
   },
   "outputs": [
    {
     "data": {
      "text/html": [
       "<div>\n",
       "<style scoped>\n",
       "    .dataframe tbody tr th:only-of-type {\n",
       "        vertical-align: middle;\n",
       "    }\n",
       "\n",
       "    .dataframe tbody tr th {\n",
       "        vertical-align: top;\n",
       "    }\n",
       "\n",
       "    .dataframe thead th {\n",
       "        text-align: right;\n",
       "    }\n",
       "</style>\n",
       "<table border=\"1\" class=\"dataframe\">\n",
       "  <thead>\n",
       "    <tr style=\"text-align: right;\">\n",
       "      <th></th>\n",
       "      <th>Churn</th>\n",
       "      <th>AccountWeeks</th>\n",
       "      <th>ContractRenewal</th>\n",
       "      <th>DataPlan</th>\n",
       "      <th>DataUsage</th>\n",
       "      <th>CustServCalls</th>\n",
       "      <th>DayMins</th>\n",
       "      <th>DayCalls</th>\n",
       "      <th>MonthlyCharge</th>\n",
       "      <th>OverageFee</th>\n",
       "      <th>RoamMins</th>\n",
       "    </tr>\n",
       "  </thead>\n",
       "  <tbody>\n",
       "    <tr>\n",
       "      <th>count</th>\n",
       "      <td>3333.000000</td>\n",
       "      <td>3333.000000</td>\n",
       "      <td>3333.000000</td>\n",
       "      <td>3333.000000</td>\n",
       "      <td>3333.000000</td>\n",
       "      <td>3333.000000</td>\n",
       "      <td>3333.000000</td>\n",
       "      <td>3333.000000</td>\n",
       "      <td>3333.000000</td>\n",
       "      <td>3333.000000</td>\n",
       "      <td>3333.000000</td>\n",
       "    </tr>\n",
       "    <tr>\n",
       "      <th>mean</th>\n",
       "      <td>0.144914</td>\n",
       "      <td>101.064806</td>\n",
       "      <td>0.903090</td>\n",
       "      <td>0.276628</td>\n",
       "      <td>0.816475</td>\n",
       "      <td>1.562856</td>\n",
       "      <td>179.775098</td>\n",
       "      <td>100.435644</td>\n",
       "      <td>56.305161</td>\n",
       "      <td>10.051488</td>\n",
       "      <td>10.237294</td>\n",
       "    </tr>\n",
       "    <tr>\n",
       "      <th>std</th>\n",
       "      <td>0.352067</td>\n",
       "      <td>39.822106</td>\n",
       "      <td>0.295879</td>\n",
       "      <td>0.447398</td>\n",
       "      <td>1.272668</td>\n",
       "      <td>1.315491</td>\n",
       "      <td>54.467389</td>\n",
       "      <td>20.069084</td>\n",
       "      <td>16.426032</td>\n",
       "      <td>2.535712</td>\n",
       "      <td>2.791840</td>\n",
       "    </tr>\n",
       "    <tr>\n",
       "      <th>min</th>\n",
       "      <td>0.000000</td>\n",
       "      <td>1.000000</td>\n",
       "      <td>0.000000</td>\n",
       "      <td>0.000000</td>\n",
       "      <td>0.000000</td>\n",
       "      <td>0.000000</td>\n",
       "      <td>0.000000</td>\n",
       "      <td>0.000000</td>\n",
       "      <td>14.000000</td>\n",
       "      <td>0.000000</td>\n",
       "      <td>0.000000</td>\n",
       "    </tr>\n",
       "    <tr>\n",
       "      <th>25%</th>\n",
       "      <td>0.000000</td>\n",
       "      <td>74.000000</td>\n",
       "      <td>1.000000</td>\n",
       "      <td>0.000000</td>\n",
       "      <td>0.000000</td>\n",
       "      <td>1.000000</td>\n",
       "      <td>143.700000</td>\n",
       "      <td>87.000000</td>\n",
       "      <td>45.000000</td>\n",
       "      <td>8.330000</td>\n",
       "      <td>8.500000</td>\n",
       "    </tr>\n",
       "    <tr>\n",
       "      <th>50%</th>\n",
       "      <td>0.000000</td>\n",
       "      <td>101.000000</td>\n",
       "      <td>1.000000</td>\n",
       "      <td>0.000000</td>\n",
       "      <td>0.000000</td>\n",
       "      <td>1.000000</td>\n",
       "      <td>179.400000</td>\n",
       "      <td>101.000000</td>\n",
       "      <td>53.500000</td>\n",
       "      <td>10.070000</td>\n",
       "      <td>10.300000</td>\n",
       "    </tr>\n",
       "    <tr>\n",
       "      <th>75%</th>\n",
       "      <td>0.000000</td>\n",
       "      <td>127.000000</td>\n",
       "      <td>1.000000</td>\n",
       "      <td>1.000000</td>\n",
       "      <td>1.780000</td>\n",
       "      <td>2.000000</td>\n",
       "      <td>216.400000</td>\n",
       "      <td>114.000000</td>\n",
       "      <td>66.200000</td>\n",
       "      <td>11.770000</td>\n",
       "      <td>12.100000</td>\n",
       "    </tr>\n",
       "    <tr>\n",
       "      <th>max</th>\n",
       "      <td>1.000000</td>\n",
       "      <td>243.000000</td>\n",
       "      <td>1.000000</td>\n",
       "      <td>1.000000</td>\n",
       "      <td>5.400000</td>\n",
       "      <td>9.000000</td>\n",
       "      <td>350.800000</td>\n",
       "      <td>165.000000</td>\n",
       "      <td>111.300000</td>\n",
       "      <td>18.190000</td>\n",
       "      <td>20.000000</td>\n",
       "    </tr>\n",
       "  </tbody>\n",
       "</table>\n",
       "</div>"
      ],
      "text/plain": [
       "             Churn  AccountWeeks  ContractRenewal     DataPlan    DataUsage  \\\n",
       "count  3333.000000   3333.000000      3333.000000  3333.000000  3333.000000   \n",
       "mean      0.144914    101.064806         0.903090     0.276628     0.816475   \n",
       "std       0.352067     39.822106         0.295879     0.447398     1.272668   \n",
       "min       0.000000      1.000000         0.000000     0.000000     0.000000   \n",
       "25%       0.000000     74.000000         1.000000     0.000000     0.000000   \n",
       "50%       0.000000    101.000000         1.000000     0.000000     0.000000   \n",
       "75%       0.000000    127.000000         1.000000     1.000000     1.780000   \n",
       "max       1.000000    243.000000         1.000000     1.000000     5.400000   \n",
       "\n",
       "       CustServCalls      DayMins     DayCalls  MonthlyCharge   OverageFee  \\\n",
       "count    3333.000000  3333.000000  3333.000000    3333.000000  3333.000000   \n",
       "mean        1.562856   179.775098   100.435644      56.305161    10.051488   \n",
       "std         1.315491    54.467389    20.069084      16.426032     2.535712   \n",
       "min         0.000000     0.000000     0.000000      14.000000     0.000000   \n",
       "25%         1.000000   143.700000    87.000000      45.000000     8.330000   \n",
       "50%         1.000000   179.400000   101.000000      53.500000    10.070000   \n",
       "75%         2.000000   216.400000   114.000000      66.200000    11.770000   \n",
       "max         9.000000   350.800000   165.000000     111.300000    18.190000   \n",
       "\n",
       "          RoamMins  \n",
       "count  3333.000000  \n",
       "mean     10.237294  \n",
       "std       2.791840  \n",
       "min       0.000000  \n",
       "25%       8.500000  \n",
       "50%      10.300000  \n",
       "75%      12.100000  \n",
       "max      20.000000  "
      ]
     },
     "execution_count": 309,
     "metadata": {},
     "output_type": "execute_result"
    }
   ],
   "source": [
    "df.describe()"
   ]
  },
  {
   "cell_type": "code",
   "execution_count": 310,
   "id": "79eec1e5",
   "metadata": {
    "collapsed": true
   },
   "outputs": [
    {
     "data": {
      "text/plain": [
       "Churn              0\n",
       "AccountWeeks       0\n",
       "ContractRenewal    0\n",
       "DataPlan           0\n",
       "DataUsage          0\n",
       "CustServCalls      0\n",
       "DayMins            0\n",
       "DayCalls           0\n",
       "MonthlyCharge      0\n",
       "OverageFee         0\n",
       "RoamMins           0\n",
       "dtype: int64"
      ]
     },
     "execution_count": 310,
     "metadata": {},
     "output_type": "execute_result"
    }
   ],
   "source": [
    "#有無缺失值\n",
    "df.isnull().sum()"
   ]
  },
  {
   "cell_type": "code",
   "execution_count": 311,
   "id": "d3f34107",
   "metadata": {},
   "outputs": [
    {
     "data": {
      "text/plain": [
       "<AxesSubplot:title={'center':'Pearson Correlation of Features'}>"
      ]
     },
     "execution_count": 311,
     "metadata": {},
     "output_type": "execute_result"
    },
    {
     "data": {
      "image/png": "[encoded data removed]",
      "text/plain": [
       "<Figure size 1008x720 with 2 Axes>"
      ]
     },
     "metadata": {
      "needs_background": "light"
     },
     "output_type": "display_data"
    }
   ],
   "source": [
    "plt.figure(figsize=(14, 10))\n",
    "plt.title(\"Pearson Correlation of Features\", y=1.05, size=15)\n",
    "sns.heatmap(df.astype(float).corr(), cmap = \"BrBG\", linewidths=0.1, square=True, linecolor='white', annot=True)"
   ]
  },
  {
   "cell_type": "code",
   "execution_count": 312,
   "id": "721e311f",
   "metadata": {},
   "outputs": [
    {
     "data": {
      "text/plain": [
       "0    2850\n",
       "1     483\n",
       "Name: Churn, dtype: int64"
      ]
     },
     "execution_count": 312,
     "metadata": {},
     "output_type": "execute_result"
    }
   ],
   "source": [
    "df[\"Churn\"].value_counts()"
   ]
  },
  {
   "cell_type": "code",
   "execution_count": 93,
   "id": "323e98c1",
   "metadata": {},
   "outputs": [],
   "source": [
    "#要將資料分群，現在0跟1不對等，在測試資料上，包含0跟1的資料筆數要對等"
   ]
  },
  {
   "cell_type": "code",
   "execution_count": 313,
   "id": "0d8ea3ef",
   "metadata": {},
   "outputs": [],
   "source": [
    "df_1 = df[df['Churn']==1]"
   ]
  },
  {
   "cell_type": "code",
   "execution_count": 314,
   "id": "f51457c2",
   "metadata": {},
   "outputs": [],
   "source": [
    "df_0 = df[df['Churn']==0]"
   ]
  },
  {
   "cell_type": "code",
   "execution_count": 315,
   "id": "6b115c0d",
   "metadata": {},
   "outputs": [],
   "source": [
    "valid_test_1 = df_1.sample(n=160, random_state=200)\n",
    "valid_test_0 = df_0.sample(n=160, random_state=200)"
   ]
  },
  {
   "cell_type": "code",
   "execution_count": 316,
   "id": "03e9f981",
   "metadata": {},
   "outputs": [],
   "source": [
    "valid_1 = valid_test_1[:80]\n",
    "test_1 = valid_test_1[80:]"
   ]
  },
  {
   "cell_type": "code",
   "execution_count": 317,
   "id": "900f24e8",
   "metadata": {},
   "outputs": [],
   "source": [
    "valid_0 = valid_test_0[:80]\n",
    "test_0 = valid_test_0[80:]"
   ]
  },
  {
   "cell_type": "code",
   "execution_count": 318,
   "id": "4781c555",
   "metadata": {},
   "outputs": [
    {
     "data": {
      "text/plain": [
       "(80, 11)"
      ]
     },
     "execution_count": 318,
     "metadata": {},
     "output_type": "execute_result"
    }
   ],
   "source": [
    "valid_1.shape"
   ]
  },
  {
   "cell_type": "code",
   "execution_count": 319,
   "id": "71a91d66",
   "metadata": {},
   "outputs": [],
   "source": [
    "train = df.drop(valid_1.index)\n",
    "train = train.drop(test_1.index)\n",
    "train = train.drop(valid_0.index)\n",
    "train = train.drop(test_0.index)"
   ]
  },
  {
   "cell_type": "code",
   "execution_count": 320,
   "id": "5771e7ff",
   "metadata": {},
   "outputs": [
    {
     "data": {
      "text/plain": [
       "(3013, 11)"
      ]
     },
     "execution_count": 320,
     "metadata": {},
     "output_type": "execute_result"
    }
   ],
   "source": [
    "train.shape"
   ]
  },
  {
   "cell_type": "code",
   "execution_count": 321,
   "id": "39124690",
   "metadata": {},
   "outputs": [
    {
     "data": {
      "text/html": [
       "<div>\n",
       "<style scoped>\n",
       "    .dataframe tbody tr th:only-of-type {\n",
       "        vertical-align: middle;\n",
       "    }\n",
       "\n",
       "    .dataframe tbody tr th {\n",
       "        vertical-align: top;\n",
       "    }\n",
       "\n",
       "    .dataframe thead th {\n",
       "        text-align: right;\n",
       "    }\n",
       "</style>\n",
       "<table border=\"1\" class=\"dataframe\">\n",
       "  <thead>\n",
       "    <tr style=\"text-align: right;\">\n",
       "      <th></th>\n",
       "      <th>Churn</th>\n",
       "      <th>AccountWeeks</th>\n",
       "      <th>ContractRenewal</th>\n",
       "      <th>DataPlan</th>\n",
       "      <th>DataUsage</th>\n",
       "      <th>CustServCalls</th>\n",
       "      <th>DayMins</th>\n",
       "      <th>DayCalls</th>\n",
       "      <th>MonthlyCharge</th>\n",
       "      <th>OverageFee</th>\n",
       "      <th>RoamMins</th>\n",
       "    </tr>\n",
       "  </thead>\n",
       "  <tbody>\n",
       "    <tr>\n",
       "      <th>3127</th>\n",
       "      <td>1</td>\n",
       "      <td>100</td>\n",
       "      <td>1</td>\n",
       "      <td>0</td>\n",
       "      <td>0.00</td>\n",
       "      <td>4</td>\n",
       "      <td>113.3</td>\n",
       "      <td>96</td>\n",
       "      <td>37.0</td>\n",
       "      <td>9.90</td>\n",
       "      <td>11.7</td>\n",
       "    </tr>\n",
       "    <tr>\n",
       "      <th>1866</th>\n",
       "      <td>1</td>\n",
       "      <td>119</td>\n",
       "      <td>1</td>\n",
       "      <td>0</td>\n",
       "      <td>0.00</td>\n",
       "      <td>2</td>\n",
       "      <td>81.9</td>\n",
       "      <td>75</td>\n",
       "      <td>36.0</td>\n",
       "      <td>12.69</td>\n",
       "      <td>8.9</td>\n",
       "    </tr>\n",
       "    <tr>\n",
       "      <th>2724</th>\n",
       "      <td>1</td>\n",
       "      <td>182</td>\n",
       "      <td>1</td>\n",
       "      <td>0</td>\n",
       "      <td>0.00</td>\n",
       "      <td>2</td>\n",
       "      <td>279.1</td>\n",
       "      <td>124</td>\n",
       "      <td>63.0</td>\n",
       "      <td>9.03</td>\n",
       "      <td>9.5</td>\n",
       "    </tr>\n",
       "    <tr>\n",
       "      <th>1718</th>\n",
       "      <td>1</td>\n",
       "      <td>109</td>\n",
       "      <td>0</td>\n",
       "      <td>0</td>\n",
       "      <td>0.00</td>\n",
       "      <td>2</td>\n",
       "      <td>268.4</td>\n",
       "      <td>85</td>\n",
       "      <td>59.0</td>\n",
       "      <td>7.53</td>\n",
       "      <td>9.7</td>\n",
       "    </tr>\n",
       "    <tr>\n",
       "      <th>372</th>\n",
       "      <td>1</td>\n",
       "      <td>151</td>\n",
       "      <td>0</td>\n",
       "      <td>0</td>\n",
       "      <td>0.29</td>\n",
       "      <td>0</td>\n",
       "      <td>218.0</td>\n",
       "      <td>57</td>\n",
       "      <td>49.9</td>\n",
       "      <td>5.72</td>\n",
       "      <td>12.4</td>\n",
       "    </tr>\n",
       "  </tbody>\n",
       "</table>\n",
       "</div>"
      ],
      "text/plain": [
       "      Churn  AccountWeeks  ContractRenewal  DataPlan  DataUsage  \\\n",
       "3127      1           100                1         0       0.00   \n",
       "1866      1           119                1         0       0.00   \n",
       "2724      1           182                1         0       0.00   \n",
       "1718      1           109                0         0       0.00   \n",
       "372       1           151                0         0       0.29   \n",
       "\n",
       "      CustServCalls  DayMins  DayCalls  MonthlyCharge  OverageFee  RoamMins  \n",
       "3127              4    113.3        96           37.0        9.90      11.7  \n",
       "1866              2     81.9        75           36.0       12.69       8.9  \n",
       "2724              2    279.1       124           63.0        9.03       9.5  \n",
       "1718              2    268.4        85           59.0        7.53       9.7  \n",
       "372               0    218.0        57           49.9        5.72      12.4  "
      ]
     },
     "execution_count": 321,
     "metadata": {},
     "output_type": "execute_result"
    }
   ],
   "source": [
    "valid = pd.concat([valid_1, valid_0], axis=0)\n",
    "valid.head()"
   ]
  },
  {
   "cell_type": "code",
   "execution_count": 322,
   "id": "17551f67",
   "metadata": {},
   "outputs": [
    {
     "data": {
      "text/html": [
       "<div>\n",
       "<style scoped>\n",
       "    .dataframe tbody tr th:only-of-type {\n",
       "        vertical-align: middle;\n",
       "    }\n",
       "\n",
       "    .dataframe tbody tr th {\n",
       "        vertical-align: top;\n",
       "    }\n",
       "\n",
       "    .dataframe thead th {\n",
       "        text-align: right;\n",
       "    }\n",
       "</style>\n",
       "<table border=\"1\" class=\"dataframe\">\n",
       "  <thead>\n",
       "    <tr style=\"text-align: right;\">\n",
       "      <th></th>\n",
       "      <th>Churn</th>\n",
       "      <th>AccountWeeks</th>\n",
       "      <th>ContractRenewal</th>\n",
       "      <th>DataPlan</th>\n",
       "      <th>DataUsage</th>\n",
       "      <th>CustServCalls</th>\n",
       "      <th>DayMins</th>\n",
       "      <th>DayCalls</th>\n",
       "      <th>MonthlyCharge</th>\n",
       "      <th>OverageFee</th>\n",
       "      <th>RoamMins</th>\n",
       "    </tr>\n",
       "  </thead>\n",
       "  <tbody>\n",
       "    <tr>\n",
       "      <th>1392</th>\n",
       "      <td>1</td>\n",
       "      <td>101</td>\n",
       "      <td>1</td>\n",
       "      <td>0</td>\n",
       "      <td>0.00</td>\n",
       "      <td>3</td>\n",
       "      <td>269.7</td>\n",
       "      <td>85</td>\n",
       "      <td>64.0</td>\n",
       "      <td>10.38</td>\n",
       "      <td>4.5</td>\n",
       "    </tr>\n",
       "    <tr>\n",
       "      <th>1965</th>\n",
       "      <td>1</td>\n",
       "      <td>139</td>\n",
       "      <td>1</td>\n",
       "      <td>0</td>\n",
       "      <td>0.00</td>\n",
       "      <td>1</td>\n",
       "      <td>236.6</td>\n",
       "      <td>109</td>\n",
       "      <td>55.0</td>\n",
       "      <td>8.50</td>\n",
       "      <td>11.1</td>\n",
       "    </tr>\n",
       "    <tr>\n",
       "      <th>2735</th>\n",
       "      <td>1</td>\n",
       "      <td>90</td>\n",
       "      <td>0</td>\n",
       "      <td>1</td>\n",
       "      <td>3.59</td>\n",
       "      <td>0</td>\n",
       "      <td>169.0</td>\n",
       "      <td>104</td>\n",
       "      <td>80.9</td>\n",
       "      <td>9.44</td>\n",
       "      <td>13.3</td>\n",
       "    </tr>\n",
       "    <tr>\n",
       "      <th>2594</th>\n",
       "      <td>1</td>\n",
       "      <td>115</td>\n",
       "      <td>0</td>\n",
       "      <td>0</td>\n",
       "      <td>0.00</td>\n",
       "      <td>1</td>\n",
       "      <td>345.3</td>\n",
       "      <td>81</td>\n",
       "      <td>76.0</td>\n",
       "      <td>10.17</td>\n",
       "      <td>11.8</td>\n",
       "    </tr>\n",
       "    <tr>\n",
       "      <th>2267</th>\n",
       "      <td>1</td>\n",
       "      <td>29</td>\n",
       "      <td>1</td>\n",
       "      <td>0</td>\n",
       "      <td>0.00</td>\n",
       "      <td>2</td>\n",
       "      <td>313.2</td>\n",
       "      <td>103</td>\n",
       "      <td>72.0</td>\n",
       "      <td>10.82</td>\n",
       "      <td>12.8</td>\n",
       "    </tr>\n",
       "  </tbody>\n",
       "</table>\n",
       "</div>"
      ],
      "text/plain": [
       "      Churn  AccountWeeks  ContractRenewal  DataPlan  DataUsage  \\\n",
       "1392      1           101                1         0       0.00   \n",
       "1965      1           139                1         0       0.00   \n",
       "2735      1            90                0         1       3.59   \n",
       "2594      1           115                0         0       0.00   \n",
       "2267      1            29                1         0       0.00   \n",
       "\n",
       "      CustServCalls  DayMins  DayCalls  MonthlyCharge  OverageFee  RoamMins  \n",
       "1392              3    269.7        85           64.0       10.38       4.5  \n",
       "1965              1    236.6       109           55.0        8.50      11.1  \n",
       "2735              0    169.0       104           80.9        9.44      13.3  \n",
       "2594              1    345.3        81           76.0       10.17      11.8  \n",
       "2267              2    313.2       103           72.0       10.82      12.8  "
      ]
     },
     "execution_count": 322,
     "metadata": {},
     "output_type": "execute_result"
    }
   ],
   "source": [
    "test = pd.concat([test_1, test_0], axis=0)\n",
    "test.head()"
   ]
  },
  {
   "cell_type": "markdown",
   "id": "777f3e15",
   "metadata": {},
   "source": [
    "normalize資料，用z-score來normailize，AccountWeeks, DataUsage, CustServCalls, DayMins, DayCalls, MonthlyCharge, OverageFee, RoamMins"
   ]
  },
  {
   "cell_type": "code",
   "execution_count": 323,
   "id": "7a827e8a",
   "metadata": {},
   "outputs": [],
   "source": [
    "from scipy import stats\n",
    "\n",
    "\n",
    "train['AccountWeeks'] = stats.zscore(train['AccountWeeks'])\n",
    "train['DataUsage'] = stats.zscore(train['DataUsage'])\n",
    "train['CustServCalls'] = stats.zscore(train['CustServCalls'])\n",
    "train['DayMins'] = stats.zscore(train['DayMins'])\n",
    "train['DayCalls'] = stats.zscore(train['DayCalls'])\n",
    "train['MonthlyCharge'] = stats.zscore(train['MonthlyCharge'])\n",
    "train['OverageFee'] = stats.zscore(train['OverageFee'])\n",
    "train['RoamMins'] = stats.zscore(train['RoamMins'])"
   ]
  },
  {
   "cell_type": "code",
   "execution_count": 324,
   "id": "64aaca11",
   "metadata": {},
   "outputs": [],
   "source": [
    "valid['AccountWeeks'] = stats.zscore(valid['AccountWeeks'])\n",
    "valid['DataUsage'] = stats.zscore(valid['DataUsage'])\n",
    "valid['CustServCalls'] = stats.zscore(valid['CustServCalls'])\n",
    "valid['DayMins'] = stats.zscore(valid['DayMins'])\n",
    "valid['DayCalls'] = stats.zscore(valid['DayCalls'])\n",
    "valid['MonthlyCharge'] = stats.zscore(valid['MonthlyCharge'])\n",
    "valid['OverageFee'] = stats.zscore(valid['OverageFee'])\n",
    "valid['RoamMins'] = stats.zscore(valid['RoamMins'])"
   ]
  },
  {
   "cell_type": "code",
   "execution_count": 325,
   "id": "8f90caa6",
   "metadata": {},
   "outputs": [],
   "source": [
    "test['AccountWeeks'] = stats.zscore(test['AccountWeeks'])\n",
    "test['DataUsage'] = stats.zscore(test['DataUsage'])\n",
    "test['CustServCalls'] = stats.zscore(test['CustServCalls'])\n",
    "test['DayMins'] = stats.zscore(test['DayMins'])\n",
    "test['DayCalls'] = stats.zscore(test['DayCalls'])\n",
    "test['MonthlyCharge'] = stats.zscore(test['MonthlyCharge'])\n",
    "test['OverageFee'] = stats.zscore(test['OverageFee'])\n",
    "test['RoamMins'] = stats.zscore(test['RoamMins'])"
   ]
  },
  {
   "cell_type": "code",
   "execution_count": 326,
   "id": "63b4473e",
   "metadata": {},
   "outputs": [],
   "source": [
    "valid_churn = valid['Churn']\n",
    "valid = valid.drop(['Churn'], axis=1)"
   ]
  },
  {
   "cell_type": "code",
   "execution_count": 327,
   "id": "8b3ddf09",
   "metadata": {},
   "outputs": [],
   "source": [
    "test_churn = test['Churn']\n",
    "test = test.drop(['Churn'], axis=1)"
   ]
  },
  {
   "cell_type": "code",
   "execution_count": 329,
   "id": "037b3236",
   "metadata": {},
   "outputs": [],
   "source": [
    "churn = train['Churn']\n",
    "train = train.drop(['Churn'], axis=1)"
   ]
  },
  {
   "cell_type": "markdown",
   "id": "0f9e25a3",
   "metadata": {},
   "source": [
    "建立模型: 建立decision tree跟random forest"
   ]
  },
  {
   "cell_type": "code",
   "execution_count": 347,
   "id": "996c8f3e",
   "metadata": {},
   "outputs": [],
   "source": [
    "from sklearn.tree import DecisionTreeClassifier\n",
    "\n",
    "clfd = DecisionTreeClassifier(max_depth=10, min_samples_leaf=10)\n",
    "clfd = clf.fit(train, churn)"
   ]
  },
  {
   "cell_type": "code",
   "execution_count": 348,
   "id": "f56fcff7",
   "metadata": {},
   "outputs": [
    {
     "name": "stdout",
     "output_type": "stream",
     "text": [
      "Train正確率:  100.0 %\n",
      "Valid正確率:  56.875 %\n",
      "Test正確率:  59.375 %\n"
     ]
    }
   ],
   "source": [
    "from sklearn.metrics import accuracy_score\n",
    "\n",
    "predict_d_train = clfd.predict(train)\n",
    "print(\"Train正確率: \", accuracy_score(churn, predict_d_train) * 100, \"%\")\n",
    "\n",
    "predict_d_valid = clfd.predict(valid)\n",
    "print(\"Valid正確率: \", accuracy_score(valid_churn, predict_d_valid) * 100, \"%\")\n",
    "\n",
    "predict_d_test = clfd.predict(test)\n",
    "print(\"Test正確率: \", accuracy_score(test_churn, predict_d_test) * 100, \"%\")"
   ]
  },
  {
   "cell_type": "code",
   "execution_count": 332,
   "id": "97c8a2ae",
   "metadata": {},
   "outputs": [
    {
     "name": "stdout",
     "output_type": "stream",
     "text": [
      "              precision    recall  f1-score   support\n",
      "\n",
      "           0       0.55      1.00      0.71        80\n",
      "           1       1.00      0.19      0.32        80\n",
      "\n",
      "    accuracy                           0.59       160\n",
      "   macro avg       0.78      0.59      0.51       160\n",
      "weighted avg       0.78      0.59      0.51       160\n",
      "\n"
     ]
    },
    {
     "name": "stderr",
     "output_type": "stream",
     "text": [
      "C:\\Users\\Wilfred\\Anaconda3\\envs\\d2l\\lib\\site-packages\\sklearn\\utils\\deprecation.py:87: FutureWarning: Function plot_confusion_matrix is deprecated; Function `plot_confusion_matrix` is deprecated in 1.0 and will be removed in 1.2. Use one of the class methods: ConfusionMatrixDisplay.from_predictions or ConfusionMatrixDisplay.from_estimator.\n",
      "  warnings.warn(msg, category=FutureWarning)\n"
     ]
    },
    {
     "data": {
      "text/plain": [
       "<sklearn.metrics._plot.confusion_matrix.ConfusionMatrixDisplay at 0x23d1b2987c0>"
      ]
     },
     "execution_count": 332,
     "metadata": {},
     "output_type": "execute_result"
    },
    {
     "data": {
      "image/png": "[encoded data removed]",
      "text/plain": [
       "<Figure size 432x288 with 2 Axes>"
      ]
     },
     "metadata": {
      "needs_background": "light"
     },
     "output_type": "display_data"
    }
   ],
   "source": [
    "from sklearn.metrics import classification_report\n",
    "from sklearn.metrics import plot_confusion_matrix\n",
    "\n",
    "\n",
    "print(classification_report(test_churn, predict_d_test))\n",
    "plot_confusion_matrix(clfd, test, test_churn)"
   ]
  },
  {
   "cell_type": "code",
   "execution_count": 342,
   "id": "cfebdc3b",
   "metadata": {},
   "outputs": [],
   "source": [
    "from sklearn.ensemble import RandomForestClassifier\n",
    "\n",
    "clfr = RandomForestClassifier(n_estimators=100, max_depth=10)\n",
    "clfr = clfr.fit(train, churn)"
   ]
  },
  {
   "cell_type": "code",
   "execution_count": 349,
   "id": "06f64041",
   "metadata": {},
   "outputs": [
    {
     "name": "stdout",
     "output_type": "stream",
     "text": [
      "Train正確率:  97.97543976103552 %\n",
      "Valid正確率:  65.625 %\n",
      "Test正確率:  69.375 %\n"
     ]
    }
   ],
   "source": [
    "predict_r_train = clfr.predict(train)\n",
    "print(\"Train正確率: \", accuracy_score(churn, predict_r_train) * 100, \"%\")\n",
    "\n",
    "predict_r_valid = clfr.predict(valid)\n",
    "print(\"Valid正確率: \", accuracy_score(valid_churn, predict_r_valid) * 100, \"%\")\n",
    "\n",
    "predict_r_test = clfr.predict(test)\n",
    "print(\"Test正確率: \", accuracy_score(test_churn, predict_r_test) * 100, \"%\")"
   ]
  },
  {
   "cell_type": "code",
   "execution_count": 344,
   "id": "369d3dcd",
   "metadata": {},
   "outputs": [
    {
     "name": "stdout",
     "output_type": "stream",
     "text": [
      "              precision    recall  f1-score   support\n",
      "\n",
      "           0       0.62      1.00      0.77        80\n",
      "           1       1.00      0.39      0.56        80\n",
      "\n",
      "    accuracy                           0.69       160\n",
      "   macro avg       0.81      0.69      0.66       160\n",
      "weighted avg       0.81      0.69      0.66       160\n",
      "\n"
     ]
    },
    {
     "name": "stderr",
     "output_type": "stream",
     "text": [
      "C:\\Users\\Wilfred\\Anaconda3\\envs\\d2l\\lib\\site-packages\\sklearn\\utils\\deprecation.py:87: FutureWarning: Function plot_confusion_matrix is deprecated; Function `plot_confusion_matrix` is deprecated in 1.0 and will be removed in 1.2. Use one of the class methods: ConfusionMatrixDisplay.from_predictions or ConfusionMatrixDisplay.from_estimator.\n",
      "  warnings.warn(msg, category=FutureWarning)\n"
     ]
    },
    {
     "data": {
      "text/plain": [
       "<sklearn.metrics._plot.confusion_matrix.ConfusionMatrixDisplay at 0x23d25aa3e80>"
      ]
     },
     "execution_count": 344,
     "metadata": {},
     "output_type": "execute_result"
    },
    {
     "data": {
      "image/png": "[encoded data removed]",
      "text/plain": [
       "<Figure size 432x288 with 2 Axes>"
      ]
     },
     "metadata": {
      "needs_background": "light"
     },
     "output_type": "display_data"
    }
   ],
   "source": [
    "print(classification_report(test_churn, predict_r_test))\n",
    "plot_confusion_matrix(clfr, test, test_churn)"
   ]
  },
  {
   "cell_type": "markdown",
   "id": "07be3bde",
   "metadata": {},
   "source": [
    "Gradient Boosting"
   ]
  },
  {
   "cell_type": "code",
   "execution_count": 350,
   "id": "4fe03274",
   "metadata": {},
   "outputs": [
    {
     "name": "stdout",
     "output_type": "stream",
     "text": [
      "Train正確率:  95.25389976767342 %\n",
      "Valid正確率:  65.0 %\n",
      "Test正確率:  68.125 %\n",
      "              precision    recall  f1-score   support\n",
      "\n",
      "           0       0.61      1.00      0.76        80\n",
      "           1       1.00      0.36      0.53        80\n",
      "\n",
      "    accuracy                           0.68       160\n",
      "   macro avg       0.81      0.68      0.65       160\n",
      "weighted avg       0.81      0.68      0.65       160\n",
      "\n"
     ]
    },
    {
     "name": "stderr",
     "output_type": "stream",
     "text": [
      "C:\\Users\\Wilfred\\Anaconda3\\envs\\d2l\\lib\\site-packages\\sklearn\\utils\\deprecation.py:87: FutureWarning: Function plot_confusion_matrix is deprecated; Function `plot_confusion_matrix` is deprecated in 1.0 and will be removed in 1.2. Use one of the class methods: ConfusionMatrixDisplay.from_predictions or ConfusionMatrixDisplay.from_estimator.\n",
      "  warnings.warn(msg, category=FutureWarning)\n"
     ]
    },
    {
     "data": {
      "text/plain": [
       "<sklearn.metrics._plot.confusion_matrix.ConfusionMatrixDisplay at 0x23d258dc3d0>"
      ]
     },
     "execution_count": 350,
     "metadata": {},
     "output_type": "execute_result"
    },
    {
     "data": {
      "image/png": "[encoded data removed]",
      "text/plain": [
       "<Figure size 432x288 with 2 Axes>"
      ]
     },
     "metadata": {
      "needs_background": "light"
     },
     "output_type": "display_data"
    }
   ],
   "source": [
    "from sklearn.ensemble import GradientBoostingClassifier\n",
    "\n",
    "clfg = GradientBoostingClassifier(n_estimators=100, max_depth=2)\n",
    "clfg.fit(train, churn)\n",
    "\n",
    "predict_g_train = clfg.predict(train)\n",
    "print(\"Train正確率: \", accuracy_score(churn, predict_g_train) * 100, \"%\")\n",
    "predict_g_valid = clfg.predict(valid)\n",
    "print(\"Valid正確率: \", accuracy_score(valid_churn, predict_g_valid) * 100, \"%\")\n",
    "predict_g_test = clfg.predict(test)\n",
    "print(\"Test正確率: \", accuracy_score(test_churn, predict_g_test) * 100, \"%\")\n",
    "\n",
    "print(classification_report(test_churn, predict_g_test))\n",
    "plot_confusion_matrix(clfg, test, test_churn)"
   ]
  },
  {
   "cell_type": "markdown",
   "id": "2220c0e6",
   "metadata": {},
   "source": [
    "KNN"
   ]
  },
  {
   "cell_type": "code",
   "execution_count": 351,
   "id": "32d138b2",
   "metadata": {},
   "outputs": [
    {
     "name": "stdout",
     "output_type": "stream",
     "text": [
      "Train正確率:  100.0 %\n",
      "Valid正確率:  58.12500000000001 %\n",
      "Test正確率:  63.125 %\n",
      "              precision    recall  f1-score   support\n",
      "\n",
      "           0       0.58      1.00      0.73        80\n",
      "           1       1.00      0.26      0.42        80\n",
      "\n",
      "    accuracy                           0.63       160\n",
      "   macro avg       0.79      0.63      0.57       160\n",
      "weighted avg       0.79      0.63      0.57       160\n",
      "\n"
     ]
    },
    {
     "name": "stderr",
     "output_type": "stream",
     "text": [
      "C:\\Users\\Wilfred\\Anaconda3\\envs\\d2l\\lib\\site-packages\\sklearn\\utils\\deprecation.py:87: FutureWarning: Function plot_confusion_matrix is deprecated; Function `plot_confusion_matrix` is deprecated in 1.0 and will be removed in 1.2. Use one of the class methods: ConfusionMatrixDisplay.from_predictions or ConfusionMatrixDisplay.from_estimator.\n",
      "  warnings.warn(msg, category=FutureWarning)\n"
     ]
    },
    {
     "data": {
      "text/plain": [
       "<sklearn.metrics._plot.confusion_matrix.ConfusionMatrixDisplay at 0x23d26fad160>"
      ]
     },
     "execution_count": 351,
     "metadata": {},
     "output_type": "execute_result"
    },
    {
     "data": {
      "image/png": "[encoded data removed]",
      "text/plain": [
       "<Figure size 432x288 with 2 Axes>"
      ]
     },
     "metadata": {
      "needs_background": "light"
     },
     "output_type": "display_data"
    }
   ],
   "source": [
    "from sklearn.neighbors import KNeighborsClassifier\n",
    "\n",
    "clfk = KNeighborsClassifier(n_neighbors=4, weights='distance')\n",
    "clfk.fit(train, churn)\n",
    "\n",
    "predict_k_train = clfk.predict(train)\n",
    "print(\"Train正確率: \", accuracy_score(churn, predict_k_train) * 100, \"%\")\n",
    "\n",
    "predict_k_valid = clfk.predict(valid)\n",
    "print(\"Valid正確率: \", accuracy_score(valid_churn, predict_k_valid) * 100, \"%\")\n",
    "\n",
    "predict_k_test = clfk.predict(test)\n",
    "print(\"Test正確率: \", accuracy_score(test_churn, predict_k_test) * 100, \"%\")\n",
    "\n",
    "\n",
    "print(classification_report(test_churn, predict_k_test))\n",
    "plot_confusion_matrix(clfk, test, test_churn)"
   ]
  },
  {
   "cell_type": "code",
   "execution_count": 360,
   "id": "7a5505dc",
   "metadata": {},
   "outputs": [],
   "source": [
    "p1 = clfd.predict_proba(test)\n",
    "p2 = clfr.predict_proba(test)\n",
    "p3 = clfg.predict_proba(test)\n",
    "p4 = clfk.predict_proba(test)"
   ]
  },
  {
   "cell_type": "code",
   "execution_count": 361,
   "id": "bf52a687",
   "metadata": {},
   "outputs": [
    {
     "name": "stdout",
     "output_type": "stream",
     "text": [
      "(160, 2)\n",
      "[0.82178191 0.17821809]\n"
     ]
    }
   ],
   "source": [
    "print(p1.shape)\n",
    "print(p1[0])"
   ]
  },
  {
   "cell_type": "code",
   "execution_count": 362,
   "id": "a7c59691",
   "metadata": {},
   "outputs": [],
   "source": [
    "from sklearn.metrics import roc_auc_score\n",
    "from sklearn.metrics import roc_curve"
   ]
  },
  {
   "cell_type": "code",
   "execution_count": 364,
   "id": "14881147",
   "metadata": {},
   "outputs": [
    {
     "name": "stdout",
     "output_type": "stream",
     "text": [
      "0.7773437500000001 0.8814062500000001 0.8753906249999999 0.772890625\n"
     ]
    }
   ],
   "source": [
    "auc_score_1 = roc_auc_score(test_churn, p1[:, 1])\n",
    "auc_score_2 = roc_auc_score(test_churn, p2[:, 1])\n",
    "auc_score_3 = roc_auc_score(test_churn, p3[:, 1])\n",
    "auc_score_4 = roc_auc_score(test_churn, p4[:, 1])\n",
    "\n",
    "print(auc_score_1, auc_score_2, auc_score_3, auc_score_4)"
   ]
  },
  {
   "cell_type": "code",
   "execution_count": 365,
   "id": "0f4f6621",
   "metadata": {},
   "outputs": [],
   "source": [
    "fpr_1, tpr_1, _ = roc_curve(test_churn, p1[:, 1], pos_label=1)\n",
    "fpr_2, tpr_2, _ = roc_curve(test_churn, p2[:, 1], pos_label=1)\n",
    "fpr_3, tpr_3, _ = roc_curve(test_churn, p3[:, 1], pos_label=1)\n",
    "fpr_4, tpr_4, _ = roc_curve(test_churn, p4[:, 1], pos_label=1)\n"
   ]
  },
  {
   "cell_type": "code",
   "execution_count": 366,
   "id": "8b9ad965",
   "metadata": {},
   "outputs": [
    {
     "name": "stdout",
     "output_type": "stream",
     "text": [
      "[0. 1.] [0. 1.]\n"
     ]
    }
   ],
   "source": [
    "random_probs = [0 for i in range(len(test_churn))]\n",
    "p_fpr, p_tpr, _ = roc_curve(test_churn, random_probs, pos_label=1)\n",
    "print(p_fpr, p_tpr)"
   ]
  },
  {
   "cell_type": "code",
   "execution_count": 367,
   "id": "b346a928",
   "metadata": {},
   "outputs": [
    {
     "data": {
      "text/plain": [
       "<matplotlib.legend.Legend at 0x23d27684f70>"
      ]
     },
     "execution_count": 367,
     "metadata": {},
     "output_type": "execute_result"
    },
    {
     "data": {
      "image/png": "[encoded data removed]",
      "text/plain": [
       "<Figure size 432x288 with 1 Axes>"
      ]
     },
     "metadata": {
      "needs_background": "light"
     },
     "output_type": "display_data"
    }
   ],
   "source": [
    "plt.plot(fpr_1, tpr_1, linestyle='--', label='Decision Tree')\n",
    "plt.plot(fpr_2, tpr_2, linestyle='--', label='Random Forest')\n",
    "plt.plot(fpr_3, tpr_3, linestyle='--', label='Gradient Boost')\n",
    "plt.plot(fpr_4, tpr_4, linestyle='--', label='KNN')\n",
    "plt.plot(p_fpr, p_tpr, linestyle='--', label='Base')\n",
    "plt.xlabel('False Positive Rate')\n",
    "plt.ylabel('True Positive rate')\n",
    "plt.title('ROC Curve')\n",
    "plt.legend()"
   ]
  },
  {
   "cell_type": "markdown",
   "id": "84bcb7c0",
   "metadata": {},
   "source": [
    "修改模型"
   ]
  },
  {
   "cell_type": "code",
   "execution_count": null,
   "id": "5bbe7617",
   "metadata": {},
   "outputs": [],
   "source": [
    "#在EDA中，有分成兩個Segment並看到一些規律，嘗試將資料分成兩種，用兩個模型來預測"
   ]
  },
  {
   "cell_type": "code",
   "execution_count": 369,
   "id": "65d853e5",
   "metadata": {},
   "outputs": [],
   "source": [
    "valid_df = pd.concat([valid_1, valid_0], axis=0)\n",
    "test_df = pd.concat([test_1, test_0], axis=0)"
   ]
  },
  {
   "cell_type": "code",
   "execution_count": 370,
   "id": "53eb719a",
   "metadata": {},
   "outputs": [],
   "source": [
    "train_df = df.drop(valid.index)\n",
    "train_df = train_df.drop(test.index)"
   ]
  },
  {
   "cell_type": "code",
   "execution_count": 371,
   "id": "340f6b15",
   "metadata": {},
   "outputs": [
    {
     "name": "stdout",
     "output_type": "stream",
     "text": [
      "(3013, 11)\n",
      "(160, 11)\n",
      "(160, 11)\n"
     ]
    }
   ],
   "source": [
    "print(train_df.shape)\n",
    "print(valid_df.shape)\n",
    "print(test_df.shape)"
   ]
  },
  {
   "cell_type": "code",
   "execution_count": 372,
   "id": "28cccbd3",
   "metadata": {},
   "outputs": [],
   "source": [
    "train_df_seg1 = train_df[train_df[\"DataUsage\"] <= 1]\n",
    "train_df_seg2 = train_df[train_df[\"DataUsage\"] > 1]\n"
   ]
  },
  {
   "cell_type": "code",
   "execution_count": 373,
   "id": "ffcc0ffe",
   "metadata": {},
   "outputs": [],
   "source": [
    "valid_df_seg1 = valid_df[valid_df[\"DataUsage\"] <= 1]\n",
    "valid_df_seg2 = valid_df[valid_df[\"DataUsage\"] > 1]"
   ]
  },
  {
   "cell_type": "code",
   "execution_count": 374,
   "id": "c0e74943",
   "metadata": {},
   "outputs": [],
   "source": [
    "test_df_seg1 = test_df[test_df[\"DataUsage\"] <= 1]\n",
    "test_df_seg2 = test_df[test_df[\"DataUsage\"] > 1]"
   ]
  },
  {
   "cell_type": "code",
   "execution_count": 375,
   "id": "4cba118d",
   "metadata": {},
   "outputs": [
    {
     "name": "stdout",
     "output_type": "stream",
     "text": [
      "(2169, 11)\n",
      "(844, 11)\n"
     ]
    }
   ],
   "source": [
    "print(train_df_seg1.shape)\n",
    "print(train_df_seg2.shape)"
   ]
  },
  {
   "cell_type": "code",
   "execution_count": 376,
   "id": "f5cfeebf",
   "metadata": {},
   "outputs": [
    {
     "name": "stdout",
     "output_type": "stream",
     "text": [
      "(127, 11)\n",
      "(33, 11)\n"
     ]
    }
   ],
   "source": [
    "print(valid_df_seg1.shape)\n",
    "print(valid_df_seg2.shape)"
   ]
  },
  {
   "cell_type": "code",
   "execution_count": 377,
   "id": "83118284",
   "metadata": {},
   "outputs": [
    {
     "name": "stdout",
     "output_type": "stream",
     "text": [
      "(124, 11)\n",
      "(36, 11)\n"
     ]
    }
   ],
   "source": [
    "print(test_df_seg1.shape)\n",
    "print(test_df_seg2.shape)"
   ]
  },
  {
   "cell_type": "code",
   "execution_count": 378,
   "id": "c7bcd3c9",
   "metadata": {},
   "outputs": [],
   "source": [
    "churn_seg1 = train_df_seg1[\"Churn\"]\n",
    "churn_seg2 = train_df_seg2[\"Churn\"]\n",
    "\n",
    "train_seg1 = train_df_seg1.drop([\"Churn\"], axis=1)\n",
    "train_seg2 = train_df_seg2.drop([\"Churn\"], axis=1)"
   ]
  },
  {
   "cell_type": "code",
   "execution_count": 379,
   "id": "a118f1a4",
   "metadata": {},
   "outputs": [],
   "source": [
    "valid_churn_seg1 = valid_df_seg1[\"Churn\"]\n",
    "valid_churn_seg2 = valid_df_seg2[\"Churn\"]\n",
    "\n",
    "valid_seg1 = valid_df_seg1.drop([\"Churn\"], axis=1)\n",
    "valid_seg2 = valid_df_seg2.drop([\"Churn\"], axis=1)"
   ]
  },
  {
   "cell_type": "code",
   "execution_count": 380,
   "id": "39a859c5",
   "metadata": {},
   "outputs": [],
   "source": [
    "test_churn_seg1 = test_df_seg1[\"Churn\"]\n",
    "test_churn_seg2 = test_df_seg2[\"Churn\"]\n",
    "\n",
    "test_seg1 = test_df_seg1.drop([\"Churn\"], axis=1)\n",
    "test_seg2 = test_df_seg2.drop([\"Churn\"], axis=1)"
   ]
  },
  {
   "cell_type": "code",
   "execution_count": 256,
   "id": "5b06de9d",
   "metadata": {},
   "outputs": [],
   "source": [
    "train_seg1['AccountWeeks'] = stats.zscore(train_seg1['AccountWeeks'])\n",
    "train_seg1['DataUsage'] = stats.zscore(train_seg1['DataUsage'])\n",
    "train_seg1['CustServCalls'] = stats.zscore(train_seg1['CustServCalls'])\n",
    "train_seg1['DayMins'] = stats.zscore(train_seg1['DayMins'])\n",
    "train_seg1['DayCalls'] = stats.zscore(train_seg1['DayCalls'])\n",
    "train_seg1['MonthlyCharge'] = stats.zscore(train_seg1['MonthlyCharge'])\n",
    "train_seg1['OverageFee'] = stats.zscore(train_seg1['OverageFee'])\n",
    "train_seg1['RoamMins'] = stats.zscore(train_seg1['RoamMins'])"
   ]
  },
  {
   "cell_type": "code",
   "execution_count": 257,
   "id": "27df10d3",
   "metadata": {},
   "outputs": [],
   "source": [
    "train_seg2['AccountWeeks'] = stats.zscore(train_seg2['AccountWeeks'])\n",
    "train_seg2['DataUsage'] = stats.zscore(train_seg2['DataUsage'])\n",
    "train_seg2['CustServCalls'] = stats.zscore(train_seg2['CustServCalls'])\n",
    "train_seg2['DayMins'] = stats.zscore(train_seg2['DayMins'])\n",
    "train_seg2['DayCalls'] = stats.zscore(train_seg2['DayCalls'])\n",
    "train_seg2['MonthlyCharge'] = stats.zscore(train_seg2['MonthlyCharge'])\n",
    "train_seg2['OverageFee'] = stats.zscore(train_seg2['OverageFee'])\n",
    "train_seg2['RoamMins'] = stats.zscore(train_seg2['RoamMins'])"
   ]
  },
  {
   "cell_type": "code",
   "execution_count": 252,
   "id": "8188afbb",
   "metadata": {},
   "outputs": [],
   "source": [
    "valid_seg1['AccountWeeks'] = stats.zscore(valid_seg1['AccountWeeks'])\n",
    "valid_seg1['DataUsage'] = stats.zscore(valid_seg1['DataUsage'])\n",
    "valid_seg1['CustServCalls'] = stats.zscore(valid_seg1['CustServCalls'])\n",
    "valid_seg1['DayMins'] = stats.zscore(valid_seg1['DayMins'])\n",
    "valid_seg1['DayCalls'] = stats.zscore(valid_seg1['DayCalls'])\n",
    "valid_seg1['MonthlyCharge'] = stats.zscore(valid_seg1['MonthlyCharge'])\n",
    "valid_seg1['OverageFee'] = stats.zscore(valid_seg1['OverageFee'])\n",
    "valid_seg1['RoamMins'] = stats.zscore(valid_seg1['RoamMins'])"
   ]
  },
  {
   "cell_type": "code",
   "execution_count": 253,
   "id": "5fd56dbb",
   "metadata": {},
   "outputs": [],
   "source": [
    "valid_seg2['AccountWeeks'] = stats.zscore(valid_seg2['AccountWeeks'])\n",
    "valid_seg2['DataUsage'] = stats.zscore(valid_seg2['DataUsage'])\n",
    "valid_seg2['CustServCalls'] = stats.zscore(valid_seg2['CustServCalls'])\n",
    "valid_seg2['DayMins'] = stats.zscore(valid_seg2['DayMins'])\n",
    "valid_seg2['DayCalls'] = stats.zscore(valid_seg2['DayCalls'])\n",
    "valid_seg2['MonthlyCharge'] = stats.zscore(valid_seg2['MonthlyCharge'])\n",
    "valid_seg2['OverageFee'] = stats.zscore(valid_seg2['OverageFee'])\n",
    "valid_seg2['RoamMins'] = stats.zscore(valid_seg2['RoamMins'])"
   ]
  },
  {
   "cell_type": "code",
   "execution_count": 381,
   "id": "a41153ed",
   "metadata": {},
   "outputs": [],
   "source": [
    "test_seg1['AccountWeeks'] = stats.zscore(test_seg1['AccountWeeks'])\n",
    "test_seg1['DataUsage'] = stats.zscore(test_seg1['DataUsage'])\n",
    "test_seg1['CustServCalls'] = stats.zscore(test_seg1['CustServCalls'])\n",
    "test_seg1['DayMins'] = stats.zscore(test_seg1['DayMins'])\n",
    "test_seg1['DayCalls'] = stats.zscore(test_seg1['DayCalls'])\n",
    "test_seg1['MonthlyCharge'] = stats.zscore(test_seg1['MonthlyCharge'])\n",
    "test_seg1['OverageFee'] = stats.zscore(test_seg1['OverageFee'])\n",
    "test_seg1['RoamMins'] = stats.zscore(test_seg1['RoamMins'])"
   ]
  },
  {
   "cell_type": "code",
   "execution_count": 382,
   "id": "4d4b4ff7",
   "metadata": {},
   "outputs": [],
   "source": [
    "test_seg2['AccountWeeks'] = stats.zscore(test_seg2['AccountWeeks'])\n",
    "test_seg2['DataUsage'] = stats.zscore(test_seg2['DataUsage'])\n",
    "test_seg2['CustServCalls'] = stats.zscore(test_seg2['CustServCalls'])\n",
    "test_seg2['DayMins'] = stats.zscore(test_seg2['DayMins'])\n",
    "test_seg2['DayCalls'] = stats.zscore(test_seg2['DayCalls'])\n",
    "test_seg2['MonthlyCharge'] = stats.zscore(test_seg2['MonthlyCharge'])\n",
    "test_seg2['OverageFee'] = stats.zscore(test_seg2['OverageFee'])\n",
    "test_seg2['RoamMins'] = stats.zscore(test_seg2['RoamMins'])"
   ]
  },
  {
   "cell_type": "code",
   "execution_count": 383,
   "id": "504008ab",
   "metadata": {},
   "outputs": [],
   "source": [
    "clfr_seg1 = RandomForestClassifier(n_estimators=100, max_depth=10)\n",
    "clfr_seg1 = clfr_seg1.fit(train_seg1, churn_seg1)\n"
   ]
  },
  {
   "cell_type": "code",
   "execution_count": 385,
   "id": "dc018a81",
   "metadata": {},
   "outputs": [
    {
     "name": "stdout",
     "output_type": "stream",
     "text": [
      "Train正確率:  98.01751959428307 %\n",
      "Valid正確率:  81.88976377952756 %\n",
      "Test正確率:  60.483870967741936 %\n",
      "              precision    recall  f1-score   support\n",
      "\n",
      "           0       0.54      0.89      0.68        57\n",
      "           1       0.80      0.36      0.49        67\n",
      "\n",
      "    accuracy                           0.60       124\n",
      "   macro avg       0.67      0.63      0.59       124\n",
      "weighted avg       0.68      0.60      0.58       124\n",
      "\n"
     ]
    },
    {
     "name": "stderr",
     "output_type": "stream",
     "text": [
      "C:\\Users\\Wilfred\\Anaconda3\\envs\\d2l\\lib\\site-packages\\sklearn\\utils\\deprecation.py:87: FutureWarning: Function plot_confusion_matrix is deprecated; Function `plot_confusion_matrix` is deprecated in 1.0 and will be removed in 1.2. Use one of the class methods: ConfusionMatrixDisplay.from_predictions or ConfusionMatrixDisplay.from_estimator.\n",
      "  warnings.warn(msg, category=FutureWarning)\n"
     ]
    },
    {
     "data": {
      "text/plain": [
       "<sklearn.metrics._plot.confusion_matrix.ConfusionMatrixDisplay at 0x23d276f1190>"
      ]
     },
     "execution_count": 385,
     "metadata": {},
     "output_type": "execute_result"
    },
    {
     "data": {
      "image/png": "[encoded data removed]",
      "text/plain": [
       "<Figure size 432x288 with 2 Axes>"
      ]
     },
     "metadata": {
      "needs_background": "light"
     },
     "output_type": "display_data"
    }
   ],
   "source": [
    "predict_train_seg1 = clfr_seg1.predict(train_seg1)\n",
    "print(\"Train正確率: \", accuracy_score(churn_seg1, predict_train_seg1) * 100, \"%\")\n",
    "\n",
    "predict_valid_seg1 = clfr_seg1.predict(valid_seg1)\n",
    "print(\"Valid正確率: \", accuracy_score(valid_churn_seg1, predict_valid_seg1) * 100, \"%\")\n",
    "\n",
    "predict_test_seg1 = clfr_seg1.predict(test_seg1)\n",
    "print(\"Test正確率: \", accuracy_score(test_churn_seg1, predict_test_seg1) * 100, \"%\")\n",
    "\n",
    "print(classification_report(test_churn_seg1, predict_test_seg1))\n",
    "plot_confusion_matrix(clfr_seg1, test_seg1, test_churn_seg1)"
   ]
  },
  {
   "cell_type": "code",
   "execution_count": 260,
   "id": "59fd8c8c",
   "metadata": {},
   "outputs": [],
   "source": [
    "clfr_seg2 = RandomForestClassifier(n_estimators=100, max_depth=10)\n",
    "clfr_seg2 = clfr_seg2.fit(train_seg2, churn_seg2)\n",
    "\n",
    "predict_seg2 = clfr_seg2.predict(valid_seg2)"
   ]
  },
  {
   "cell_type": "code",
   "execution_count": 386,
   "id": "56a21070",
   "metadata": {},
   "outputs": [
    {
     "name": "stdout",
     "output_type": "stream",
     "text": [
      "Train正確率:  59.12322274881517 %\n",
      "Valid正確率:  66.66666666666666 %\n",
      "Test正確率:  80.55555555555556 %\n",
      "              precision    recall  f1-score   support\n",
      "\n",
      "           0       0.77      1.00      0.87        23\n",
      "           1       1.00      0.46      0.63        13\n",
      "\n",
      "    accuracy                           0.81        36\n",
      "   macro avg       0.88      0.73      0.75        36\n",
      "weighted avg       0.85      0.81      0.78        36\n",
      "\n"
     ]
    },
    {
     "name": "stderr",
     "output_type": "stream",
     "text": [
      "C:\\Users\\Wilfred\\Anaconda3\\envs\\d2l\\lib\\site-packages\\sklearn\\utils\\deprecation.py:87: FutureWarning: Function plot_confusion_matrix is deprecated; Function `plot_confusion_matrix` is deprecated in 1.0 and will be removed in 1.2. Use one of the class methods: ConfusionMatrixDisplay.from_predictions or ConfusionMatrixDisplay.from_estimator.\n",
      "  warnings.warn(msg, category=FutureWarning)\n"
     ]
    },
    {
     "data": {
      "text/plain": [
       "<sklearn.metrics._plot.confusion_matrix.ConfusionMatrixDisplay at 0x23d27049c10>"
      ]
     },
     "execution_count": 386,
     "metadata": {},
     "output_type": "execute_result"
    },
    {
     "data": {
      "image/png": "[encoded data removed]",
      "text/plain": [
       "<Figure size 432x288 with 2 Axes>"
      ]
     },
     "metadata": {
      "needs_background": "light"
     },
     "output_type": "display_data"
    }
   ],
   "source": [
    "predict_train_seg2 = clfr_seg2.predict(train_seg2)\n",
    "print(\"Train正確率: \", accuracy_score(churn_seg2, predict_train_seg2) * 100, \"%\")\n",
    "\n",
    "predict_valid_seg2 = clfr_seg1.predict(valid_seg2)\n",
    "print(\"Valid正確率: \", accuracy_score(valid_churn_seg2, predict_valid_seg2) * 100, \"%\")\n",
    "\n",
    "predict_test_seg2 = clfr_seg1.predict(test_seg2)\n",
    "print(\"Test正確率: \", accuracy_score(test_churn_seg2, predict_test_seg2) * 100, \"%\")\n",
    "\n",
    "print(classification_report(test_churn_seg2, predict_test_seg2))\n",
    "plot_confusion_matrix(clfr_seg2, test_seg2, test_churn_seg2)"
   ]
  },
  {
   "cell_type": "markdown",
   "id": "dd1917e4",
   "metadata": {},
   "source": [
    "準確率從69.38% 變成65.625%"
   ]
  },
  {
   "cell_type": "markdown",
   "id": "429ae9d0",
   "metadata": {},
   "source": [
    "將訓練資料中的churn比例調整成一樣"
   ]
  },
  {
   "cell_type": "code",
   "execution_count": 387,
   "id": "1af0f724",
   "metadata": {},
   "outputs": [
    {
     "name": "stdout",
     "output_type": "stream",
     "text": [
      "(3013, 11)\n"
     ]
    }
   ],
   "source": [
    "print(train_df.shape)"
   ]
  },
  {
   "cell_type": "code",
   "execution_count": 390,
   "id": "8d0f189f",
   "metadata": {},
   "outputs": [
    {
     "data": {
      "text/plain": [
       "0    2690\n",
       "1     323\n",
       "Name: Churn, dtype: int64"
      ]
     },
     "execution_count": 390,
     "metadata": {},
     "output_type": "execute_result"
    }
   ],
   "source": [
    "train_df['Churn'].value_counts()"
   ]
  },
  {
   "cell_type": "code",
   "execution_count": 391,
   "id": "95ef0d45",
   "metadata": {},
   "outputs": [],
   "source": [
    "train_df_1 = train_df[train_df[\"Churn\"]==1]\n",
    "train_df_0 = train_df[train_df[\"Churn\"]==0].sample(323)"
   ]
  },
  {
   "cell_type": "code",
   "execution_count": 392,
   "id": "1d42e317",
   "metadata": {},
   "outputs": [],
   "source": [
    "churn_0 = train_df_0[\"Churn\"]\n",
    "churn_1 = train_df_1[\"Churn\"]\n",
    "\n",
    "train_0 = train_df_0.drop([\"Churn\"], axis=1)\n",
    "train_1 = train_df_1.drop([\"Churn\"], axis=1)"
   ]
  },
  {
   "cell_type": "code",
   "execution_count": 393,
   "id": "92bc6725",
   "metadata": {},
   "outputs": [],
   "source": [
    "train_bal = pd.concat([train_0, train_1], axis=0)\n",
    "churn_bal = pd.concat([churn_0, churn_1], axis=0)"
   ]
  },
  {
   "cell_type": "code",
   "execution_count": 394,
   "id": "feed54ac",
   "metadata": {},
   "outputs": [],
   "source": [
    "train_bal['AccountWeeks'] = stats.zscore(train_bal['AccountWeeks'])\n",
    "train_bal['DataUsage'] = stats.zscore(train_bal['DataUsage'])\n",
    "train_bal['CustServCalls'] = stats.zscore(train_bal['CustServCalls'])\n",
    "train_bal['DayMins'] = stats.zscore(train_bal['DayMins'])\n",
    "train_bal['DayCalls'] = stats.zscore(train_bal['DayCalls'])\n",
    "train_bal['MonthlyCharge'] = stats.zscore(train_bal['MonthlyCharge'])\n",
    "train_bal['OverageFee'] = stats.zscore(train_bal['OverageFee'])\n",
    "train_bal['RoamMins'] = stats.zscore(train_bal['RoamMins'])"
   ]
  },
  {
   "cell_type": "code",
   "execution_count": 395,
   "id": "5653f243",
   "metadata": {},
   "outputs": [],
   "source": [
    "clfr_2= RandomForestClassifier(n_estimators=100, max_depth=10)\n",
    "clfr_2 = clfr_2.fit(train_bal, churn_bal)\n"
   ]
  },
  {
   "cell_type": "code",
   "execution_count": 396,
   "id": "e5e60d84",
   "metadata": {},
   "outputs": [
    {
     "name": "stdout",
     "output_type": "stream",
     "text": [
      "Train正確率:  96.59442724458205 %\n",
      "正確率:  81.875 %\n",
      "正確率:  90.0 %\n",
      "              precision    recall  f1-score   support\n",
      "\n",
      "           0       0.89      0.91      0.90        80\n",
      "           1       0.91      0.89      0.90        80\n",
      "\n",
      "    accuracy                           0.90       160\n",
      "   macro avg       0.90      0.90      0.90       160\n",
      "weighted avg       0.90      0.90      0.90       160\n",
      "\n"
     ]
    },
    {
     "name": "stderr",
     "output_type": "stream",
     "text": [
      "C:\\Users\\Wilfred\\Anaconda3\\envs\\d2l\\lib\\site-packages\\sklearn\\utils\\deprecation.py:87: FutureWarning: Function plot_confusion_matrix is deprecated; Function `plot_confusion_matrix` is deprecated in 1.0 and will be removed in 1.2. Use one of the class methods: ConfusionMatrixDisplay.from_predictions or ConfusionMatrixDisplay.from_estimator.\n",
      "  warnings.warn(msg, category=FutureWarning)\n"
     ]
    },
    {
     "data": {
      "text/plain": [
       "<sklearn.metrics._plot.confusion_matrix.ConfusionMatrixDisplay at 0x23d25007580>"
      ]
     },
     "execution_count": 396,
     "metadata": {},
     "output_type": "execute_result"
    },
    {
     "data": {
      "image/png": "[encoded data removed]",
      "text/plain": [
       "<Figure size 432x288 with 2 Axes>"
      ]
     },
     "metadata": {
      "needs_background": "light"
     },
     "output_type": "display_data"
    }
   ],
   "source": [
    "predict_clfr_2 = clfr_2.predict(train_bal)\n",
    "print(\"Train正確率: \", accuracy_score(churn_bal, predict_clfr_2) * 100, \"%\")\n",
    "\n",
    "predict_clfr_valid_2 = clfr_2.predict(valid)\n",
    "print(\"正確率: \", accuracy_score(valid_churn, predict_clfr_valid_2) * 100, \"%\")\n",
    "\n",
    "predict_clfr_test_2 = clfr_2.predict(test)\n",
    "print(\"正確率: \", accuracy_score(test_churn, predict_clfr_test_2) * 100, \"%\")\n",
    "print(classification_report(test_churn, predict_clfr_test_2))\n",
    "plot_confusion_matrix(clfr_2, test, test_churn)"
   ]
  },
  {
   "cell_type": "code",
   "execution_count": 291,
   "id": "781a4e4b",
   "metadata": {},
   "outputs": [],
   "source": [
    "train_bal = pd.concat([train_0, train_1], axis=0)\n",
    "churn_bal = pd.concat([churn_0, churn_1], axis=0)"
   ]
  },
  {
   "cell_type": "code",
   "execution_count": 296,
   "id": "142af431",
   "metadata": {},
   "outputs": [
    {
     "data": {
      "text/html": [
       "<div>\n",
       "<style scoped>\n",
       "    .dataframe tbody tr th:only-of-type {\n",
       "        vertical-align: middle;\n",
       "    }\n",
       "\n",
       "    .dataframe tbody tr th {\n",
       "        vertical-align: top;\n",
       "    }\n",
       "\n",
       "    .dataframe thead th {\n",
       "        text-align: right;\n",
       "    }\n",
       "</style>\n",
       "<table border=\"1\" class=\"dataframe\">\n",
       "  <thead>\n",
       "    <tr style=\"text-align: right;\">\n",
       "      <th></th>\n",
       "      <th>AccountWeeks</th>\n",
       "      <th>ContractRenewal</th>\n",
       "      <th>DataPlan</th>\n",
       "      <th>DataUsage</th>\n",
       "      <th>CustServCalls</th>\n",
       "      <th>DayMins</th>\n",
       "      <th>DayCalls</th>\n",
       "      <th>MonthlyCharge</th>\n",
       "      <th>OverageFee</th>\n",
       "      <th>RoamMins</th>\n",
       "    </tr>\n",
       "  </thead>\n",
       "  <tbody>\n",
       "    <tr>\n",
       "      <th>854</th>\n",
       "      <td>120</td>\n",
       "      <td>1</td>\n",
       "      <td>1</td>\n",
       "      <td>2.62</td>\n",
       "      <td>2</td>\n",
       "      <td>212.7</td>\n",
       "      <td>73</td>\n",
       "      <td>85.2</td>\n",
       "      <td>12.88</td>\n",
       "      <td>9.7</td>\n",
       "    </tr>\n",
       "    <tr>\n",
       "      <th>647</th>\n",
       "      <td>88</td>\n",
       "      <td>1</td>\n",
       "      <td>0</td>\n",
       "      <td>0.00</td>\n",
       "      <td>1</td>\n",
       "      <td>192.0</td>\n",
       "      <td>91</td>\n",
       "      <td>44.0</td>\n",
       "      <td>6.38</td>\n",
       "      <td>7.5</td>\n",
       "    </tr>\n",
       "    <tr>\n",
       "      <th>433</th>\n",
       "      <td>78</td>\n",
       "      <td>1</td>\n",
       "      <td>0</td>\n",
       "      <td>0.00</td>\n",
       "      <td>2</td>\n",
       "      <td>155.0</td>\n",
       "      <td>106</td>\n",
       "      <td>42.0</td>\n",
       "      <td>8.77</td>\n",
       "      <td>11.8</td>\n",
       "    </tr>\n",
       "    <tr>\n",
       "      <th>2850</th>\n",
       "      <td>109</td>\n",
       "      <td>1</td>\n",
       "      <td>0</td>\n",
       "      <td>0.00</td>\n",
       "      <td>2</td>\n",
       "      <td>137.0</td>\n",
       "      <td>128</td>\n",
       "      <td>42.0</td>\n",
       "      <td>10.85</td>\n",
       "      <td>10.0</td>\n",
       "    </tr>\n",
       "    <tr>\n",
       "      <th>20</th>\n",
       "      <td>147</td>\n",
       "      <td>1</td>\n",
       "      <td>0</td>\n",
       "      <td>0.31</td>\n",
       "      <td>0</td>\n",
       "      <td>155.1</td>\n",
       "      <td>117</td>\n",
       "      <td>50.1</td>\n",
       "      <td>11.99</td>\n",
       "      <td>10.6</td>\n",
       "    </tr>\n",
       "  </tbody>\n",
       "</table>\n",
       "</div>"
      ],
      "text/plain": [
       "      AccountWeeks  ContractRenewal  DataPlan  DataUsage  CustServCalls  \\\n",
       "854            120                1         1       2.62              2   \n",
       "647             88                1         0       0.00              1   \n",
       "433             78                1         0       0.00              2   \n",
       "2850           109                1         0       0.00              2   \n",
       "20             147                1         0       0.31              0   \n",
       "\n",
       "      DayMins  DayCalls  MonthlyCharge  OverageFee  RoamMins  \n",
       "854     212.7        73           85.2       12.88       9.7  \n",
       "647     192.0        91           44.0        6.38       7.5  \n",
       "433     155.0       106           42.0        8.77      11.8  \n",
       "2850    137.0       128           42.0       10.85      10.0  \n",
       "20      155.1       117           50.1       11.99      10.6  "
      ]
     },
     "execution_count": 296,
     "metadata": {},
     "output_type": "execute_result"
    }
   ],
   "source": [
    "train_bal.head()"
   ]
  },
  {
   "cell_type": "markdown",
   "id": "1035cd00",
   "metadata": {},
   "source": [
    "準確率從65.0 % 變成80.0%"
   ]
  },
  {
   "cell_type": "code",
   "execution_count": 289,
   "id": "61c2a2a8",
   "metadata": {},
   "outputs": [
    {
     "data": {
      "text/html": [
       "<div>\n",
       "<style scoped>\n",
       "    .dataframe tbody tr th:only-of-type {\n",
       "        vertical-align: middle;\n",
       "    }\n",
       "\n",
       "    .dataframe tbody tr th {\n",
       "        vertical-align: top;\n",
       "    }\n",
       "\n",
       "    .dataframe thead th {\n",
       "        text-align: right;\n",
       "    }\n",
       "</style>\n",
       "<table border=\"1\" class=\"dataframe\">\n",
       "  <thead>\n",
       "    <tr style=\"text-align: right;\">\n",
       "      <th></th>\n",
       "      <th>Churn</th>\n",
       "      <th>AccountWeeks</th>\n",
       "      <th>ContractRenewal</th>\n",
       "      <th>DataPlan</th>\n",
       "      <th>DataUsage</th>\n",
       "      <th>CustServCalls</th>\n",
       "      <th>DayMins</th>\n",
       "      <th>DayCalls</th>\n",
       "      <th>MonthlyCharge</th>\n",
       "      <th>OverageFee</th>\n",
       "      <th>RoamMins</th>\n",
       "    </tr>\n",
       "  </thead>\n",
       "  <tbody>\n",
       "    <tr>\n",
       "      <th>3127</th>\n",
       "      <td>1</td>\n",
       "      <td>100</td>\n",
       "      <td>1</td>\n",
       "      <td>0</td>\n",
       "      <td>0.00</td>\n",
       "      <td>4</td>\n",
       "      <td>113.3</td>\n",
       "      <td>96</td>\n",
       "      <td>37.0</td>\n",
       "      <td>9.90</td>\n",
       "      <td>11.7</td>\n",
       "    </tr>\n",
       "    <tr>\n",
       "      <th>1866</th>\n",
       "      <td>1</td>\n",
       "      <td>119</td>\n",
       "      <td>1</td>\n",
       "      <td>0</td>\n",
       "      <td>0.00</td>\n",
       "      <td>2</td>\n",
       "      <td>81.9</td>\n",
       "      <td>75</td>\n",
       "      <td>36.0</td>\n",
       "      <td>12.69</td>\n",
       "      <td>8.9</td>\n",
       "    </tr>\n",
       "    <tr>\n",
       "      <th>2724</th>\n",
       "      <td>1</td>\n",
       "      <td>182</td>\n",
       "      <td>1</td>\n",
       "      <td>0</td>\n",
       "      <td>0.00</td>\n",
       "      <td>2</td>\n",
       "      <td>279.1</td>\n",
       "      <td>124</td>\n",
       "      <td>63.0</td>\n",
       "      <td>9.03</td>\n",
       "      <td>9.5</td>\n",
       "    </tr>\n",
       "    <tr>\n",
       "      <th>1718</th>\n",
       "      <td>1</td>\n",
       "      <td>109</td>\n",
       "      <td>0</td>\n",
       "      <td>0</td>\n",
       "      <td>0.00</td>\n",
       "      <td>2</td>\n",
       "      <td>268.4</td>\n",
       "      <td>85</td>\n",
       "      <td>59.0</td>\n",
       "      <td>7.53</td>\n",
       "      <td>9.7</td>\n",
       "    </tr>\n",
       "    <tr>\n",
       "      <th>372</th>\n",
       "      <td>1</td>\n",
       "      <td>151</td>\n",
       "      <td>0</td>\n",
       "      <td>0</td>\n",
       "      <td>0.29</td>\n",
       "      <td>0</td>\n",
       "      <td>218.0</td>\n",
       "      <td>57</td>\n",
       "      <td>49.9</td>\n",
       "      <td>5.72</td>\n",
       "      <td>12.4</td>\n",
       "    </tr>\n",
       "  </tbody>\n",
       "</table>\n",
       "</div>"
      ],
      "text/plain": [
       "      Churn  AccountWeeks  ContractRenewal  DataPlan  DataUsage  \\\n",
       "3127      1           100                1         0       0.00   \n",
       "1866      1           119                1         0       0.00   \n",
       "2724      1           182                1         0       0.00   \n",
       "1718      1           109                0         0       0.00   \n",
       "372       1           151                0         0       0.29   \n",
       "\n",
       "      CustServCalls  DayMins  DayCalls  MonthlyCharge  OverageFee  RoamMins  \n",
       "3127              4    113.3        96           37.0        9.90      11.7  \n",
       "1866              2     81.9        75           36.0       12.69       8.9  \n",
       "2724              2    279.1       124           63.0        9.03       9.5  \n",
       "1718              2    268.4        85           59.0        7.53       9.7  \n",
       "372               0    218.0        57           49.9        5.72      12.4  "
      ]
     },
     "execution_count": 289,
     "metadata": {},
     "output_type": "execute_result"
    }
   ],
   "source": [
    "valid_ori = pd.concat([valid_1, valid_0], axis=0)"
   ]
  },
  {
   "cell_type": "code",
   "execution_count": 290,
   "id": "e6af3b6c",
   "metadata": {},
   "outputs": [
    {
     "data": {
      "text/html": [
       "<div>\n",
       "<style scoped>\n",
       "    .dataframe tbody tr th:only-of-type {\n",
       "        vertical-align: middle;\n",
       "    }\n",
       "\n",
       "    .dataframe tbody tr th {\n",
       "        vertical-align: top;\n",
       "    }\n",
       "\n",
       "    .dataframe thead th {\n",
       "        text-align: right;\n",
       "    }\n",
       "</style>\n",
       "<table border=\"1\" class=\"dataframe\">\n",
       "  <thead>\n",
       "    <tr style=\"text-align: right;\">\n",
       "      <th></th>\n",
       "      <th>Churn</th>\n",
       "      <th>AccountWeeks</th>\n",
       "      <th>ContractRenewal</th>\n",
       "      <th>DataPlan</th>\n",
       "      <th>DataUsage</th>\n",
       "      <th>CustServCalls</th>\n",
       "      <th>DayMins</th>\n",
       "      <th>DayCalls</th>\n",
       "      <th>MonthlyCharge</th>\n",
       "      <th>OverageFee</th>\n",
       "      <th>RoamMins</th>\n",
       "    </tr>\n",
       "  </thead>\n",
       "  <tbody>\n",
       "    <tr>\n",
       "      <th>1392</th>\n",
       "      <td>1</td>\n",
       "      <td>101</td>\n",
       "      <td>1</td>\n",
       "      <td>0</td>\n",
       "      <td>0.00</td>\n",
       "      <td>3</td>\n",
       "      <td>269.7</td>\n",
       "      <td>85</td>\n",
       "      <td>64.0</td>\n",
       "      <td>10.38</td>\n",
       "      <td>4.5</td>\n",
       "    </tr>\n",
       "    <tr>\n",
       "      <th>1965</th>\n",
       "      <td>1</td>\n",
       "      <td>139</td>\n",
       "      <td>1</td>\n",
       "      <td>0</td>\n",
       "      <td>0.00</td>\n",
       "      <td>1</td>\n",
       "      <td>236.6</td>\n",
       "      <td>109</td>\n",
       "      <td>55.0</td>\n",
       "      <td>8.50</td>\n",
       "      <td>11.1</td>\n",
       "    </tr>\n",
       "    <tr>\n",
       "      <th>2735</th>\n",
       "      <td>1</td>\n",
       "      <td>90</td>\n",
       "      <td>0</td>\n",
       "      <td>1</td>\n",
       "      <td>3.59</td>\n",
       "      <td>0</td>\n",
       "      <td>169.0</td>\n",
       "      <td>104</td>\n",
       "      <td>80.9</td>\n",
       "      <td>9.44</td>\n",
       "      <td>13.3</td>\n",
       "    </tr>\n",
       "    <tr>\n",
       "      <th>2594</th>\n",
       "      <td>1</td>\n",
       "      <td>115</td>\n",
       "      <td>0</td>\n",
       "      <td>0</td>\n",
       "      <td>0.00</td>\n",
       "      <td>1</td>\n",
       "      <td>345.3</td>\n",
       "      <td>81</td>\n",
       "      <td>76.0</td>\n",
       "      <td>10.17</td>\n",
       "      <td>11.8</td>\n",
       "    </tr>\n",
       "    <tr>\n",
       "      <th>2267</th>\n",
       "      <td>1</td>\n",
       "      <td>29</td>\n",
       "      <td>1</td>\n",
       "      <td>0</td>\n",
       "      <td>0.00</td>\n",
       "      <td>2</td>\n",
       "      <td>313.2</td>\n",
       "      <td>103</td>\n",
       "      <td>72.0</td>\n",
       "      <td>10.82</td>\n",
       "      <td>12.8</td>\n",
       "    </tr>\n",
       "  </tbody>\n",
       "</table>\n",
       "</div>"
      ],
      "text/plain": [
       "      Churn  AccountWeeks  ContractRenewal  DataPlan  DataUsage  \\\n",
       "1392      1           101                1         0       0.00   \n",
       "1965      1           139                1         0       0.00   \n",
       "2735      1            90                0         1       3.59   \n",
       "2594      1           115                0         0       0.00   \n",
       "2267      1            29                1         0       0.00   \n",
       "\n",
       "      CustServCalls  DayMins  DayCalls  MonthlyCharge  OverageFee  RoamMins  \n",
       "1392              3    269.7        85           64.0       10.38       4.5  \n",
       "1965              1    236.6       109           55.0        8.50      11.1  \n",
       "2735              0    169.0       104           80.9        9.44      13.3  \n",
       "2594              1    345.3        81           76.0       10.17      11.8  \n",
       "2267              2    313.2       103           72.0       10.82      12.8  "
      ]
     },
     "execution_count": 290,
     "metadata": {},
     "output_type": "execute_result"
    }
   ],
   "source": [
    "test_ori = pd.concat([test_1, test_0], axis=0)\n",
    "test_ori.head()"
   ]
  },
  {
   "cell_type": "code",
   "execution_count": 292,
   "id": "7439ac3f",
   "metadata": {},
   "outputs": [],
   "source": [
    "valid_ori_churn = valid_ori['Churn']\n",
    "valid_ori = valid_ori.drop(['Churn'], axis=1)"
   ]
  },
  {
   "cell_type": "code",
   "execution_count": 293,
   "id": "0656b0fa",
   "metadata": {},
   "outputs": [],
   "source": [
    "test_ori_churn = test_ori['Churn']\n",
    "test_ori = test_ori.drop(['Churn'], axis=1)"
   ]
  },
  {
   "cell_type": "code",
   "execution_count": 301,
   "id": "30b2e746",
   "metadata": {},
   "outputs": [],
   "source": [
    "clfr_3= RandomForestClassifier(n_estimators=100, max_depth=10)\n",
    "clfr_3 = clfr_3.fit(train_bal, churn_bal)\n",
    "\n",
    "predict_clfr_3 = clfr_3.predict(valid_ori)"
   ]
  },
  {
   "cell_type": "code",
   "execution_count": 303,
   "id": "8c18ae51",
   "metadata": {},
   "outputs": [
    {
     "name": "stdout",
     "output_type": "stream",
     "text": [
      "正確率:  97.52321981424149 %\n"
     ]
    }
   ],
   "source": [
    "#training 準確率\n",
    "predict_clfr_3 = clfr_3.predict(train_bal)\n",
    "print(\"正確率: \", accuracy_score(churn_bal, predict_clfr_3) * 100, \"%\")"
   ]
  },
  {
   "cell_type": "code",
   "execution_count": 302,
   "id": "27a8d539",
   "metadata": {},
   "outputs": [
    {
     "name": "stdout",
     "output_type": "stream",
     "text": [
      "正確率:  80.625 %\n",
      "              precision    recall  f1-score   support\n",
      "\n",
      "           0       0.81      0.80      0.81        80\n",
      "           1       0.80      0.81      0.81        80\n",
      "\n",
      "    accuracy                           0.81       160\n",
      "   macro avg       0.81      0.81      0.81       160\n",
      "weighted avg       0.81      0.81      0.81       160\n",
      "\n"
     ]
    },
    {
     "name": "stderr",
     "output_type": "stream",
     "text": [
      "C:\\Users\\Wilfred\\Anaconda3\\envs\\d2l\\lib\\site-packages\\sklearn\\utils\\deprecation.py:87: FutureWarning: Function plot_confusion_matrix is deprecated; Function `plot_confusion_matrix` is deprecated in 1.0 and will be removed in 1.2. Use one of the class methods: ConfusionMatrixDisplay.from_predictions or ConfusionMatrixDisplay.from_estimator.\n",
      "  warnings.warn(msg, category=FutureWarning)\n"
     ]
    },
    {
     "data": {
      "text/plain": [
       "<sklearn.metrics._plot.confusion_matrix.ConfusionMatrixDisplay at 0x23d251360d0>"
      ]
     },
     "execution_count": 302,
     "metadata": {},
     "output_type": "execute_result"
    },
    {
     "data": {
      "image/png": "[encoded data removed]",
      "text/plain": [
       "<Figure size 432x288 with 2 Axes>"
      ]
     },
     "metadata": {
      "needs_background": "light"
     },
     "output_type": "display_data"
    }
   ],
   "source": [
    "print(\"正確率: \", accuracy_score(valid_ori_churn, predict_clfr_3) * 100, \"%\")\n",
    "print(classification_report(valid_ori_churn, predict_clfr_3))\n",
    "plot_confusion_matrix(clfr_3, valid_ori, valid_ori_churn)"
   ]
  },
  {
   "cell_type": "code",
   "execution_count": 41,
   "id": "61cce541",
   "metadata": {
    "collapsed": true
   },
   "outputs": [
    {
     "data": {
      "text/html": [
       "<div>\n",
       "<style scoped>\n",
       "    .dataframe tbody tr th:only-of-type {\n",
       "        vertical-align: middle;\n",
       "    }\n",
       "\n",
       "    .dataframe tbody tr th {\n",
       "        vertical-align: top;\n",
       "    }\n",
       "\n",
       "    .dataframe thead th {\n",
       "        text-align: right;\n",
       "    }\n",
       "</style>\n",
       "<table border=\"1\" class=\"dataframe\">\n",
       "  <thead>\n",
       "    <tr style=\"text-align: right;\">\n",
       "      <th></th>\n",
       "      <th>Churn</th>\n",
       "      <th>AccountWeeks</th>\n",
       "      <th>ContractRenewal</th>\n",
       "      <th>DataPlan</th>\n",
       "      <th>DataUsage</th>\n",
       "      <th>CustServCalls</th>\n",
       "      <th>DayMins</th>\n",
       "      <th>DayCalls</th>\n",
       "      <th>MonthlyCharge</th>\n",
       "      <th>OverageFee</th>\n",
       "      <th>RoamMins</th>\n",
       "    </tr>\n",
       "  </thead>\n",
       "  <tbody>\n",
       "    <tr>\n",
       "      <th>0</th>\n",
       "      <td>0</td>\n",
       "      <td>128</td>\n",
       "      <td>1</td>\n",
       "      <td>1</td>\n",
       "      <td>2.70</td>\n",
       "      <td>1</td>\n",
       "      <td>265.1</td>\n",
       "      <td>110</td>\n",
       "      <td>89.0</td>\n",
       "      <td>9.87</td>\n",
       "      <td>10.0</td>\n",
       "    </tr>\n",
       "    <tr>\n",
       "      <th>1</th>\n",
       "      <td>0</td>\n",
       "      <td>107</td>\n",
       "      <td>1</td>\n",
       "      <td>1</td>\n",
       "      <td>3.70</td>\n",
       "      <td>1</td>\n",
       "      <td>161.6</td>\n",
       "      <td>123</td>\n",
       "      <td>82.0</td>\n",
       "      <td>9.78</td>\n",
       "      <td>13.7</td>\n",
       "    </tr>\n",
       "    <tr>\n",
       "      <th>2</th>\n",
       "      <td>0</td>\n",
       "      <td>137</td>\n",
       "      <td>1</td>\n",
       "      <td>0</td>\n",
       "      <td>0.00</td>\n",
       "      <td>0</td>\n",
       "      <td>243.4</td>\n",
       "      <td>114</td>\n",
       "      <td>52.0</td>\n",
       "      <td>6.06</td>\n",
       "      <td>12.2</td>\n",
       "    </tr>\n",
       "    <tr>\n",
       "      <th>6</th>\n",
       "      <td>0</td>\n",
       "      <td>121</td>\n",
       "      <td>1</td>\n",
       "      <td>1</td>\n",
       "      <td>2.03</td>\n",
       "      <td>3</td>\n",
       "      <td>218.2</td>\n",
       "      <td>88</td>\n",
       "      <td>87.3</td>\n",
       "      <td>17.43</td>\n",
       "      <td>7.5</td>\n",
       "    </tr>\n",
       "    <tr>\n",
       "      <th>8</th>\n",
       "      <td>0</td>\n",
       "      <td>117</td>\n",
       "      <td>1</td>\n",
       "      <td>0</td>\n",
       "      <td>0.19</td>\n",
       "      <td>1</td>\n",
       "      <td>184.5</td>\n",
       "      <td>97</td>\n",
       "      <td>63.9</td>\n",
       "      <td>17.58</td>\n",
       "      <td>8.7</td>\n",
       "    </tr>\n",
       "    <tr>\n",
       "      <th>...</th>\n",
       "      <td>...</td>\n",
       "      <td>...</td>\n",
       "      <td>...</td>\n",
       "      <td>...</td>\n",
       "      <td>...</td>\n",
       "      <td>...</td>\n",
       "      <td>...</td>\n",
       "      <td>...</td>\n",
       "      <td>...</td>\n",
       "      <td>...</td>\n",
       "      <td>...</td>\n",
       "    </tr>\n",
       "    <tr>\n",
       "      <th>3327</th>\n",
       "      <td>0</td>\n",
       "      <td>79</td>\n",
       "      <td>1</td>\n",
       "      <td>0</td>\n",
       "      <td>0.00</td>\n",
       "      <td>2</td>\n",
       "      <td>134.7</td>\n",
       "      <td>98</td>\n",
       "      <td>40.0</td>\n",
       "      <td>9.49</td>\n",
       "      <td>11.8</td>\n",
       "    </tr>\n",
       "    <tr>\n",
       "      <th>3328</th>\n",
       "      <td>0</td>\n",
       "      <td>192</td>\n",
       "      <td>1</td>\n",
       "      <td>1</td>\n",
       "      <td>2.67</td>\n",
       "      <td>2</td>\n",
       "      <td>156.2</td>\n",
       "      <td>77</td>\n",
       "      <td>71.7</td>\n",
       "      <td>10.78</td>\n",
       "      <td>9.9</td>\n",
       "    </tr>\n",
       "    <tr>\n",
       "      <th>3329</th>\n",
       "      <td>0</td>\n",
       "      <td>68</td>\n",
       "      <td>1</td>\n",
       "      <td>0</td>\n",
       "      <td>0.34</td>\n",
       "      <td>3</td>\n",
       "      <td>231.1</td>\n",
       "      <td>57</td>\n",
       "      <td>56.4</td>\n",
       "      <td>7.67</td>\n",
       "      <td>9.6</td>\n",
       "    </tr>\n",
       "    <tr>\n",
       "      <th>3330</th>\n",
       "      <td>0</td>\n",
       "      <td>28</td>\n",
       "      <td>1</td>\n",
       "      <td>0</td>\n",
       "      <td>0.00</td>\n",
       "      <td>2</td>\n",
       "      <td>180.8</td>\n",
       "      <td>109</td>\n",
       "      <td>56.0</td>\n",
       "      <td>14.44</td>\n",
       "      <td>14.1</td>\n",
       "    </tr>\n",
       "    <tr>\n",
       "      <th>3332</th>\n",
       "      <td>0</td>\n",
       "      <td>74</td>\n",
       "      <td>1</td>\n",
       "      <td>1</td>\n",
       "      <td>3.70</td>\n",
       "      <td>0</td>\n",
       "      <td>234.4</td>\n",
       "      <td>113</td>\n",
       "      <td>100.0</td>\n",
       "      <td>13.30</td>\n",
       "      <td>13.7</td>\n",
       "    </tr>\n",
       "  </tbody>\n",
       "</table>\n",
       "<p>2919 rows × 11 columns</p>\n",
       "</div>"
      ],
      "text/plain": [
       "      Churn  AccountWeeks  ContractRenewal  DataPlan  DataUsage  \\\n",
       "0         0           128                1         1       2.70   \n",
       "1         0           107                1         1       3.70   \n",
       "2         0           137                1         0       0.00   \n",
       "6         0           121                1         1       2.03   \n",
       "8         0           117                1         0       0.19   \n",
       "...     ...           ...              ...       ...        ...   \n",
       "3327      0            79                1         0       0.00   \n",
       "3328      0           192                1         1       2.67   \n",
       "3329      0            68                1         0       0.34   \n",
       "3330      0            28                1         0       0.00   \n",
       "3332      0            74                1         1       3.70   \n",
       "\n",
       "      CustServCalls  DayMins  DayCalls  MonthlyCharge  OverageFee  RoamMins  \n",
       "0                 1    265.1       110           89.0        9.87      10.0  \n",
       "1                 1    161.6       123           82.0        9.78      13.7  \n",
       "2                 0    243.4       114           52.0        6.06      12.2  \n",
       "6                 3    218.2        88           87.3       17.43       7.5  \n",
       "8                 1    184.5        97           63.9       17.58       8.7  \n",
       "...             ...      ...       ...            ...         ...       ...  \n",
       "3327              2    134.7        98           40.0        9.49      11.8  \n",
       "3328              2    156.2        77           71.7       10.78       9.9  \n",
       "3329              3    231.1        57           56.4        7.67       9.6  \n",
       "3330              2    180.8       109           56.0       14.44      14.1  \n",
       "3332              0    234.4       113          100.0       13.30      13.7  \n",
       "\n",
       "[2919 rows x 11 columns]"
      ]
     },
     "execution_count": 41,
     "metadata": {},
     "output_type": "execute_result"
    }
   ],
   "source": [
    "# #找出outlier\n",
    "# import numpy as np\n",
    "# from scipy import stats\n",
    "\n",
    "\n",
    "# df[(np.abs(stats.zscore(df)) < 3).all(axis=1)]"
   ]
  },
  {
   "cell_type": "code",
   "execution_count": 48,
   "id": "db5819fd",
   "metadata": {
    "collapsed": true
   },
   "outputs": [
    {
     "name": "stdout",
     "output_type": "stream",
     "text": [
      "Churn\n",
      "[]\n",
      "0\n",
      "AccountWeeks\n",
      "[224, 243, 232, 225, 225, 224, 221]\n",
      "7\n",
      "ContractRenewal\n",
      "[0, 0, 0, 0, 0, 0, 0, 0, 0, 0, 0, 0, 0, 0, 0, 0, 0, 0, 0, 0, 0, 0, 0, 0, 0, 0, 0, 0, 0, 0, 0, 0, 0, 0, 0, 0, 0, 0, 0, 0, 0, 0, 0, 0, 0, 0, 0, 0, 0, 0, 0, 0, 0, 0, 0, 0, 0, 0, 0, 0, 0, 0, 0, 0, 0, 0, 0, 0, 0, 0, 0, 0, 0, 0, 0, 0, 0, 0, 0, 0, 0, 0, 0, 0, 0, 0, 0, 0, 0, 0, 0, 0, 0, 0, 0, 0, 0, 0, 0, 0, 0, 0, 0, 0, 0, 0, 0, 0, 0, 0, 0, 0, 0, 0, 0, 0, 0, 0, 0, 0, 0, 0, 0, 0, 0, 0, 0, 0, 0, 0, 0, 0, 0, 0, 0, 0, 0, 0, 0, 0, 0, 0, 0, 0, 0, 0, 0, 0, 0, 0, 0, 0, 0, 0, 0, 0, 0, 0, 0, 0, 0, 0, 0, 0, 0, 0, 0, 0, 0, 0, 0, 0, 0, 0, 0, 0, 0, 0, 0, 0, 0, 0, 0, 0, 0, 0, 0, 0, 0, 0, 0, 0, 0, 0, 0, 0, 0, 0, 0, 0, 0, 0, 0, 0, 0, 0, 0, 0, 0, 0, 0, 0, 0, 0, 0, 0, 0, 0, 0, 0, 0, 0, 0, 0, 0, 0, 0, 0, 0, 0, 0, 0, 0, 0, 0, 0, 0, 0, 0, 0, 0, 0, 0, 0, 0, 0, 0, 0, 0, 0, 0, 0, 0, 0, 0, 0, 0, 0, 0, 0, 0, 0, 0, 0, 0, 0, 0, 0, 0, 0, 0, 0, 0, 0, 0, 0, 0, 0, 0, 0, 0, 0, 0, 0, 0, 0, 0, 0, 0, 0, 0, 0, 0, 0, 0, 0, 0, 0, 0, 0, 0, 0, 0, 0, 0, 0, 0, 0, 0, 0, 0, 0, 0, 0, 0, 0, 0, 0, 0, 0, 0, 0, 0]\n",
      "323\n",
      "DataPlan\n",
      "[]\n",
      "0\n",
      "DataUsage\n",
      "[5.4, 4.64, 4.73, 4.75]\n",
      "4\n",
      "CustServCalls\n",
      "[7, 7, 9, 6, 6, 6, 7, 6, 6, 6, 6, 6, 6, 8, 6, 7, 7, 7, 8, 6, 6, 6, 9, 6, 6, 6, 6, 7, 6, 6, 7, 6, 6, 7, 6]\n",
      "35\n",
      "DayMins\n",
      "[350.8, 346.8, 12.5, 0.0, 0.0, 7.9, 345.3, 2.6, 7.8]\n",
      "9\n",
      "DayCalls\n",
      "[163, 36, 40, 165, 30, 0, 0, 35, 40]\n",
      "9\n",
      "MonthlyCharge\n",
      "[110.0, 108.3, 105.6, 110.0, 108.7, 108.6, 111.3, 106.9]\n",
      "8\n",
      "OverageFee\n",
      "[1.56, 2.11, 2.2, 2.13, 2.41, 18.09, 17.71, 18.19, 0.0]\n",
      "9\n",
      "RoamMins\n",
      "[20.0, 0.0, 18.9, 0.0, 0.0, 0.0, 0.0, 1.3, 0.0, 0.0, 0.0, 0.0, 0.0, 0.0, 0.0, 0.0, 1.1, 0.0, 0.0, 0.0, 0.0, 0.0]\n",
      "22\n"
     ]
    }
   ],
   "source": [
    "# for column in df.columns:\n",
    "#     print(column)\n",
    "#     df_column = df[np.abs(stats.zscore(df[str(column)])) > 3]\n",
    "#     print(list(df_column[str(column)]))\n",
    "#     print(len(df_column))\n",
    "    "
   ]
  }
 ],
 "metadata": {
  "kernelspec": {
   "display_name": "Python 3 (ipykernel)",
   "language": "python",
   "name": "python3"
  },
  "language_info": {
   "codemirror_mode": {
    "name": "ipython",
    "version": 3
   },
   "file_extension": ".py",
   "mimetype": "text/x-python",
   "name": "python",
   "nbconvert_exporter": "python",
   "pygments_lexer": "ipython3",
   "version": "3.8.8"
  }
 },
 "nbformat": 4,
 "nbformat_minor": 5
}
